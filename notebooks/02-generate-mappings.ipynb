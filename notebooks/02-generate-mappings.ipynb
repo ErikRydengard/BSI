{
 "cells": [
  {
   "cell_type": "code",
   "execution_count": null,
   "id": "03757ef2",
   "metadata": {},
   "outputs": [],
   "source": [
    "import sys\n",
    "from pathlib import Path\n",
    "import pandas as pd\n",
    "import os\n",
    "from config import Config as paths\n",
    "\n",
    "project_root = Path(\"..\").resolve()\n",
    "sys.path.insert(0, str(project_root))\n",
    "\n",
    "from data_cleaning.cleaners.baseCleaner import BaseCleaner\n",
    "from data_cleaning.renaming import generate_and_save_rename_columns_json, rename_columns"
   ]
  },
  {
   "cell_type": "markdown",
   "id": "4b264f66",
   "metadata": {},
   "source": [
    "## Load Raw Data"
   ]
  },
  {
   "cell_type": "code",
   "execution_count": null,
   "id": "58b45510",
   "metadata": {},
   "outputs": [],
   "source": [
    "melior_ov_raw = pd.read_parquet(paths.MELIOR_OV_PATH)\n",
    "melior_sv_raw = pd.read_parquet(paths.MELIOR_SV_PATH)\n",
    "microbiology = pd.read_parquet(paths.MICROBIOLOGY_DEDUB_PATH)"
   ]
  },
  {
   "cell_type": "markdown",
   "id": "7b6842e3",
   "metadata": {},
   "source": [
    "## Generate Renaming files"
   ]
  },
  {
   "cell_type": "code",
   "execution_count": null,
   "id": "70c7690a",
   "metadata": {},
   "outputs": [],
   "source": [
    "generate_and_save_rename_columns_json(\n",
    "    melior_ov_raw, f\"{paths.RENAME_FILES_PATH_HOSPITALISATION}/melior_ov_rename_columns.json\"\n",
    ")\n",
    "generate_and_save_rename_columns_json(\n",
    "    melior_sv_raw, f\"{paths.RENAME_FILES_PATH_HOSPITALISATION}/melior_sv_rename_columns.json\"\n",
    ")"
   ]
  },
  {
   "cell_type": "markdown",
   "id": "e204ced1",
   "metadata": {},
   "source": [
    "## Rename and clean data"
   ]
  },
  {
   "cell_type": "code",
   "execution_count": null,
   "id": "0d40147a",
   "metadata": {},
   "outputs": [],
   "source": [
    "base_cleaner = BaseCleaner()\n",
    "\n",
    "melior_sv_renamed = rename_columns(\n",
    "    melior_sv_raw, f\"{paths.RENAME_FILES_PATH_HOSPITALISATION}/melior_sv_rename_columns.json\"\n",
    ")\n",
    "melior_ov_renamed = rename_columns(\n",
    "    melior_ov_raw, f\"{paths.RENAME_FILES_PATH_HOSPITALISATION}/melior_ov_rename_columns.json\"\n",
    ")"
   ]
  },
  {
   "cell_type": "markdown",
   "id": "6c3bbca4",
   "metadata": {},
   "source": [
    "## Combine and Rename columns"
   ]
  },
  {
   "cell_type": "code",
   "execution_count": null,
   "id": "7d9ad262",
   "metadata": {},
   "outputs": [],
   "source": [
    "combined_patient_reference = base_cleaner.concat_data(\n",
    "    melior_sv_renamed, melior_ov_renamed\n",
    ")\n",
    "\n",
    "combined_patient_reference = base_cleaner.clean_data(combined_patient_reference)"
   ]
  },
  {
   "cell_type": "markdown",
   "id": "c5478608",
   "metadata": {},
   "source": [
    "## Map to Episode"
   ]
  },
  {
   "cell_type": "code",
   "execution_count": null,
   "id": "ffe563fc",
   "metadata": {},
   "outputs": [],
   "source": [
    "microbiology_cleaned = base_cleaner.clean_data(microbiology)\n",
    "\n",
    "reference = pd.merge(\n",
    "    microbiology_cleaned[[\"episode_id\", \"sample_id\", \"sample_date\",\"year\",\"age\",\"sex\"]],\n",
    "    combined_patient_reference,\n",
    "    on=[\"sample_id\"],\n",
    "    how=\"left\",\n",
    ")\n",
    "\n",
    "reference[\"hosp_start\"] = reference[\"hosp_start\"].dt.tz_localize(None)\n",
    "reference[\"hosp_stop\"] = reference[\"hosp_stop\"].dt.tz_localize(None)\n"
   ]
  },
  {
   "cell_type": "markdown",
   "id": "74d464ef",
   "metadata": {},
   "source": [
    "## Make sure that all episodes have a patient id"
   ]
  },
  {
   "cell_type": "code",
   "execution_count": null,
   "id": "37bbfe49",
   "metadata": {},
   "outputs": [],
   "source": [
    "reference = pd.merge(\n",
    "    reference,\n",
    "    microbiology_cleaned[[\"episode_id\"]].drop_duplicates(),\n",
    "    on=[\"episode_id\"],\n",
    "    how=\"right\",\n",
    ")"
   ]
  },
  {
   "cell_type": "code",
   "execution_count": null,
   "id": "a90f8d1b",
   "metadata": {},
   "outputs": [],
   "source": [
    "# make sure that a patient_id is seven characters long\n",
    "reference[\"patient_id\"] = reference[\"episode_id\"].str.split(\"_\").str[0].astype(int)"
   ]
  },
  {
   "cell_type": "markdown",
   "id": "d3e56a1b",
   "metadata": {},
   "source": [
    "## Add Age Group"
   ]
  },
  {
   "cell_type": "code",
   "execution_count": null,
   "id": "2d19b872",
   "metadata": {},
   "outputs": [],
   "source": [
    "bins = [i * 10 for i in range(11)]\n",
    "bins_labels = [f\"{i}-{i+9}\" for i in range(0, 100, 10)]\n",
    "bins[-1] = 140\n",
    "bins_labels[0] = \"1-9\"\n",
    "bins_labels[-1] = \"90+\"\n",
    "\n",
    "reference.loc[:, \"age_group\"] = pd.cut(\n",
    "    reference[\"age\"],\n",
    "    bins=bins,\n",
    "    labels=bins_labels,\n",
    "    include_lowest=True,\n",
    "    right=False,\n",
    ")"
   ]
  },
  {
   "cell_type": "markdown",
   "id": "93791794",
   "metadata": {},
   "source": [
    "## Save Data\n"
   ]
  },
  {
   "cell_type": "code",
   "execution_count": null,
   "id": "a9a6607f",
   "metadata": {},
   "outputs": [],
   "source": [
    "if not os.path.exists(paths.STORE_REFERENCE_DATA_PATH):\n",
    "    os.makedirs(paths.STORE_REFERENCE_DATA_PATH)\n",
    "\n",
    "\n",
    "reference.to_parquet(paths.REFERENCE_DATA_PATH, index=False)"
   ]
  }
 ],
 "metadata": {
  "kernelspec": {
   "display_name": "bsi",
   "language": "python",
   "name": "python3"
  },
  "language_info": {
   "codemirror_mode": {
    "name": "ipython",
    "version": 3
   },
   "file_extension": ".py",
   "mimetype": "text/x-python",
   "name": "python",
   "nbconvert_exporter": "python",
   "pygments_lexer": "ipython3",
   "version": "3.12.2"
  }
 },
 "nbformat": 4,
 "nbformat_minor": 5
}

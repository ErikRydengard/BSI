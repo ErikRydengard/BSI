{
 "cells": [
  {
   "cell_type": "code",
   "execution_count": null,
   "metadata": {},
   "outputs": [],
   "source": [
    "import sys\n",
    "from pathlib import Path\n",
    "import pandas as pd\n",
    "import sys\n",
    "import os\n",
    "from config import Config as paths\n",
    "\n",
    "project_root = Path(\"..\").resolve()\n",
    "sys.path.insert(0, str(project_root))\n",
    "\n",
    "from data_cleaning.cleaners.episode.clean_data_labs_vital import LabVitalsCleaner\n",
    "from data_cleaning.renaming import (\n",
    "    generate_and_save_rename_columns_json,\n",
    "    generate_and_save_rename_values_json,\n",
    ")\n",
    "from data_cleaning.renaming import rename_columns, rename_values\n",
    "from data_cleaning.renaming import generate_and_save_rename_values_json, rename_values\n",
    "\n",
    "\n",
    "cleaner = LabVitalsCleaner()"
   ]
  },
  {
   "cell_type": "markdown",
   "metadata": {},
   "source": [
    "## Import Data\n"
   ]
  },
  {
   "cell_type": "code",
   "execution_count": null,
   "metadata": {},
   "outputs": [],
   "source": [
    "laboratory_data = pd.read_parquet(paths.LABORATORY_PATH)\n",
    "vital_data = pd.read_parquet(paths.VITALS_PATH)\n",
    "reference_data = pd.read_parquet(paths.REFERENCE_DATA_PATH)"
   ]
  },
  {
   "cell_type": "markdown",
   "metadata": {},
   "source": [
    "## Generate Renaming Files for Columns\n"
   ]
  },
  {
   "cell_type": "code",
   "execution_count": null,
   "metadata": {},
   "outputs": [],
   "source": [
    "generate_and_save_rename_columns_json(\n",
    "    df=laboratory_data,\n",
    "    file_path=f\"{paths.RENAME_FILES_LABORATORY}/lab_rename_columns.json\",\n",
    ")\n",
    "generate_and_save_rename_columns_json(\n",
    "    df=vital_data,\n",
    "    file_path=f\"{paths.RENAME_FILES_LABORATORY}/vital_rename_columns.json\",\n",
    ")"
   ]
  },
  {
   "cell_type": "markdown",
   "metadata": {},
   "source": [
    "## Rename Columns\n"
   ]
  },
  {
   "cell_type": "code",
   "execution_count": null,
   "metadata": {},
   "outputs": [],
   "source": [
    "laboratory_renamed = rename_columns(\n",
    "    laboratory_data, f\"{paths.RENAME_FILES_LABORATORY}/lab_rename_columns.json\"\n",
    ")\n",
    "vital_renamed = rename_columns(\n",
    "    vital_data, f\"{paths.RENAME_FILES_LABORATORY}/vital_rename_columns.json\"\n",
    ")"
   ]
  },
  {
   "cell_type": "markdown",
   "metadata": {},
   "source": [
    "## Generate Renaming Files for Values\n"
   ]
  },
  {
   "cell_type": "code",
   "execution_count": null,
   "metadata": {},
   "outputs": [],
   "source": [
    "generate_and_save_rename_values_json(\n",
    "    df=laboratory_renamed,\n",
    "    file_path=f\"{paths.RENAME_FILES_LABORATORY}/lab_rename_values.json\",\n",
    "    limit=200,\n",
    ")\n",
    "generate_and_save_rename_values_json(\n",
    "    df=vital_renamed,\n",
    "    file_path=f\"{paths.RENAME_FILES_LABORATORY}/vital_rename_values.json\",\n",
    "    limit=200,\n",
    ")"
   ]
  },
  {
   "cell_type": "markdown",
   "metadata": {},
   "source": [
    "## Rename Values\n"
   ]
  },
  {
   "cell_type": "code",
   "execution_count": null,
   "metadata": {},
   "outputs": [],
   "source": [
    "laboratory_values_renamed = rename_values(\n",
    "    laboratory_renamed, f\"{paths.RENAME_FILES_LABORATORY}/lab_rename_values.json\"\n",
    ")\n",
    "vital_values_renamed = rename_values(\n",
    "    vital_renamed, f\"{paths.RENAME_FILES_LABORATORY}/vital_rename_values.json\"\n",
    ")"
   ]
  },
  {
   "cell_type": "markdown",
   "metadata": {},
   "source": [
    "## Clean Data\n"
   ]
  },
  {
   "cell_type": "code",
   "execution_count": null,
   "metadata": {},
   "outputs": [],
   "source": [
    "laboratory_cleaned = cleaner.clean_data(laboratory_values_renamed)\n",
    "vital_cleaned = cleaner.clean_data(vital_values_renamed)"
   ]
  },
  {
   "cell_type": "markdown",
   "metadata": {},
   "source": [
    "## Add patient_id\n"
   ]
  },
  {
   "cell_type": "code",
   "execution_count": null,
   "metadata": {},
   "outputs": [],
   "source": [
    "patient_id_hosp_id = reference_data[[\"patient_id\", \"hosp_id\"]].drop_duplicates()\n",
    "\n",
    "laboratory_with_patient_id = pd.merge(\n",
    "    patient_id_hosp_id, laboratory_cleaned, on=\"hosp_id\", how=\"left\"\n",
    ")\n",
    "laboratory_with_patient_id = laboratory_with_patient_id[\n",
    "    laboratory_with_patient_id.hosp_id.notnull()\n",
    "    & laboratory_with_patient_id.lab_result_date.notnull()\n",
    "]\n",
    "laboratory_with_patient_id = cleaner.clean_data(laboratory_with_patient_id)"
   ]
  },
  {
   "cell_type": "code",
   "execution_count": null,
   "metadata": {},
   "outputs": [],
   "source": [
    "vital_with_patient_id = pd.merge(\n",
    "    patient_id_hosp_id, vital_cleaned, on=\"hosp_id\", how=\"left\"\n",
    ")\n",
    "vital_with_patient_id = vital_with_patient_id[\n",
    "    vital_with_patient_id.hosp_id.notnull()\n",
    "    & vital_with_patient_id.vital_result.notnull()\n",
    "]\n",
    "vital_with_patient_id = cleaner.clean_data(vital_with_patient_id)"
   ]
  },
  {
   "cell_type": "markdown",
   "metadata": {},
   "source": [
    "## Clean Measurements\n"
   ]
  },
  {
   "cell_type": "code",
   "execution_count": null,
   "metadata": {},
   "outputs": [],
   "source": [
    "\n",
    "laboratory_with_patient_id_cleaned = cleaner.clean_data(\n",
    "    cleaner.clean_measurement(df=laboratory_with_patient_id, col_name=\"lab_result\")\n",
    ")\n",
    "vital_with_patient_id_cleaned = cleaner.clean_data(\n",
    "    cleaner.clean_measurement(df=vital_with_patient_id, col_name=\"vital_result\")\n",
    ")"
   ]
  },
  {
   "cell_type": "code",
   "execution_count": null,
   "metadata": {},
   "outputs": [],
   "source": [
    "ranges = {}\n",
    "\n",
    "laboratory_with_patient_id_cleaned = cleaner.calculate_reasonability_lab(\n",
    "    df=laboratory_with_patient_id_cleaned,\n",
    "    result_column=\"lab_result_cleaned\",\n",
    "    lab_name=\"lab_name\",\n",
    "    ranges=ranges,\n",
    ")\n",
    "\n",
    "\n",
    "ranges = {\n",
    "    \"news_score\": (0, 25),\n",
    "    \"diastolic_blood_pressure\": (20, 200),\n",
    "    \"temperature\": (30, 45),\n",
    "    \"systolic_blood_pressure\": (30, 300),\n",
    "    \"pulse\": (10, 300),\n",
    "    \"respiratory_rate\": (5, 80),\n",
    "    \"oxygen_saturation\": (40, 100),\n",
    "    \"news_score_low_oxygen_saturation\": (0, 100),\n",
    "    \"onews_score\": (0, 25),\n",
    "    \"oxygen_saturation_percentage\": (0, 100),\n",
    "}\n",
    "\n",
    "\n",
    "vital_with_patient_id_cleaned = cleaner.calculate_reasonability_vitals(\n",
    "    df=vital_with_patient_id_cleaned,\n",
    "    result_column=\"vital_result_cleaned\",\n",
    "    vital_name=\"vital_name\",\n",
    "    ranges=ranges,\n",
    ")"
   ]
  },
  {
   "cell_type": "code",
   "execution_count": null,
   "metadata": {},
   "outputs": [],
   "source": [
    "vital_with_patient_id_cleaned = vital_with_patient_id_cleaned[\n",
    "    vital_with_patient_id_cleaned.reasonable\n",
    "]\n",
    "\n",
    "laboratory_with_patient_id_cleaned = laboratory_with_patient_id_cleaned[\n",
    "    laboratory_with_patient_id_cleaned.reasonable\n",
    "]"
   ]
  },
  {
   "cell_type": "markdown",
   "metadata": {},
   "source": [
    "## Map Data to Episodes\n"
   ]
  },
  {
   "cell_type": "code",
   "execution_count": null,
   "metadata": {},
   "outputs": [],
   "source": [
    "\n",
    "DAYS_BEFORE_BASELINE = pd.Timedelta(24, unit=\"hours\")\n",
    "DAYS_AFTER_BASELINE = pd.Timedelta(24, unit=\"hours\")\n",
    "\n",
    "laboratory_mapped_24 = cleaner.map_data_to_interval(\n",
    "    reference_df=reference_data[\n",
    "        [\"episode_id\", \"patient_id\", \"sample_date\"]\n",
    "    ].drop_duplicates(),\n",
    "    df=laboratory_with_patient_id_cleaned,\n",
    "    patient_id_col_name=\"patient_id\",\n",
    "    date_col_name=\"lab_result_date\",\n",
    "    baseline_col_name=\"sample_date\",\n",
    "    time_before_baseline=DAYS_BEFORE_BASELINE,\n",
    "    time_after_baseline=DAYS_AFTER_BASELINE,\n",
    ")\n",
    "\n",
    "vital_mapped_24 = cleaner.map_data_to_interval(\n",
    "    reference_df=reference_data[\n",
    "        [\"episode_id\", \"patient_id\", \"sample_date\"]\n",
    "    ].drop_duplicates(),\n",
    "    df=vital_with_patient_id_cleaned,\n",
    "    patient_id_col_name=\"patient_id\",\n",
    "    date_col_name=\"vital_date\",\n",
    "    baseline_col_name=\"sample_date\",\n",
    "    time_before_baseline=DAYS_BEFORE_BASELINE,\n",
    "    time_after_baseline=DAYS_AFTER_BASELINE,\n",
    ")"
   ]
  },
  {
   "cell_type": "markdown",
   "metadata": {},
   "source": [
    "## Remove Missing lab and vital names"
   ]
  },
  {
   "cell_type": "code",
   "execution_count": null,
   "metadata": {},
   "outputs": [],
   "source": [
    "laboratory_mapped_24 = laboratory_mapped_24[laboratory_mapped_24.lab_result_cleaned.notnull()]\n",
    "vital_mapped_24 = vital_mapped_24[vital_mapped_24.vital_result_cleaned.notnull()]"
   ]
  },
  {
   "cell_type": "markdown",
   "metadata": {},
   "source": [
    "## Pivot data"
   ]
  },
  {
   "cell_type": "code",
   "execution_count": null,
   "metadata": {},
   "outputs": [],
   "source": [
    "laboratory_first_measurements_24_hours = laboratory_mapped_24.sort_values('diff').drop_duplicates(['episode_id','lab_name']).pivot(\n",
    "    index=['episode_id'],\n",
    "    columns='lab_name',\n",
    "    values='lab_result_cleaned'\n",
    ").reset_index()\n",
    "\n",
    "if 'Remove' in laboratory_first_measurements_24_hours.columns:\n",
    "    laboratory_first_measurements_24_hours = laboratory_first_measurements_24_hours.drop(columns=['Remove'])\n",
    "\n",
    "vital_first_measurements_24_hours = vital_mapped_24.sort_values('diff').drop_duplicates(['episode_id','vital_name']).pivot(\n",
    "    index=['episode_id'],\n",
    "    columns='vital_name',\n",
    "    values='vital_result_cleaned'\n",
    ").reset_index()\n",
    "\n",
    "if 'Remove' in vital_first_measurements_24_hours.columns:\n",
    "    vital_first_measurements_24_hours = vital_first_measurements_24_hours.drop(columns=['Remove'])\n",
    "\n"
   ]
  },
  {
   "cell_type": "markdown",
   "metadata": {},
   "source": [
    "## Combine"
   ]
  },
  {
   "cell_type": "code",
   "execution_count": null,
   "metadata": {},
   "outputs": [],
   "source": [
    "laboratory_vitals_first_measurements_24_hours = pd.merge(\n",
    "    laboratory_first_measurements_24_hours,\n",
    "    vital_first_measurements_24_hours,\n",
    "    on=\"episode_id\",\n",
    "    how=\"outer\",\n",
    ")\n"
   ]
  },
  {
   "cell_type": "markdown",
   "metadata": {},
   "source": [
    "## Save Processed Data\n"
   ]
  },
  {
   "cell_type": "code",
   "execution_count": null,
   "metadata": {},
   "outputs": [],
   "source": [
    "if not os.path.exists(paths.STORE_PATH + \"/laboratory_vitals\"):\n",
    "    os.makedirs(paths.STORE_PATH + \"/laboratory_vitals\")\n",
    "\n",
    "laboratory_vitals_first_measurements_24_hours.to_parquet(\n",
    "    paths.STORE_PATH + \"/laboratory_vitals\" + \"/laboratory_vitals_first_measurements_24_hours.parquet\"\n",
    ")"
   ]
  }
 ],
 "metadata": {
  "kernelspec": {
   "display_name": "bsi",
   "language": "python",
   "name": "python3"
  },
  "language_info": {
   "codemirror_mode": {
    "name": "ipython",
    "version": 3
   },
   "file_extension": ".py",
   "mimetype": "text/x-python",
   "name": "python",
   "nbconvert_exporter": "python",
   "pygments_lexer": "ipython3",
   "version": "3.12.2"
  }
 },
 "nbformat": 4,
 "nbformat_minor": 2
}

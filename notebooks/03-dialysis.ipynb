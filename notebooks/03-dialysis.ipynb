{
 "cells": [
  {
   "cell_type": "markdown",
   "id": "705125f5",
   "metadata": {},
   "source": [
    "# Dialysis Data Processing Pipeline"
   ]
  },
  {
   "cell_type": "code",
   "execution_count": null,
   "id": "6c459564",
   "metadata": {},
   "outputs": [],
   "source": [
    "import sys\n",
    "from pathlib import Path\n",
    "from config import Config as paths\n",
    "import pandas as pd\n",
    "import sys\n",
    "import os\n",
    "\n",
    "project_root = Path(\"..\").resolve()\n",
    "sys.path.insert(0, str(project_root))\n",
    "\n",
    "from data_cleaning.renaming import rename_columns,generate_and_save_rename_columns_json\n",
    "from data_cleaning.utils import save_json, load_json\n",
    "from data_cleaning.cleaners.episode.clean_data_dialys import DialysisCleaner"
   ]
  },
  {
   "cell_type": "markdown",
   "id": "0070ce5e",
   "metadata": {},
   "source": [
    "## Load Data"
   ]
  },
  {
   "cell_type": "code",
   "execution_count": null,
   "id": "2bca459a",
   "metadata": {},
   "outputs": [],
   "source": [
    "dialysis = pd.read_parquet(paths.DIALYSIS_PATH)"
   ]
  },
  {
   "cell_type": "markdown",
   "id": "3f79d22a",
   "metadata": {},
   "source": [
    "## Generate Renaming Files"
   ]
  },
  {
   "cell_type": "code",
   "execution_count": null,
   "id": "a6d67c48",
   "metadata": {},
   "outputs": [],
   "source": [
    "generate_and_save_rename_columns_json(\n",
    "    dialysis, f\"{paths.RENAME_FILES_DIALYSIS}/dialysis_rename_columns.json\"\n",
    ")"
   ]
  },
  {
   "cell_type": "markdown",
   "id": "08069a10",
   "metadata": {},
   "source": [
    "## Rename Columns"
   ]
  },
  {
   "cell_type": "code",
   "execution_count": null,
   "id": "372e23ee",
   "metadata": {},
   "outputs": [],
   "source": [
    "dialysis_renamed = dialysis_renamed = rename_columns(dialysis, f\"{paths.RENAME_FILES_DIALYSIS}/dialysis_rename_columns.json\")"
   ]
  },
  {
   "cell_type": "markdown",
   "id": "87fff2aa",
   "metadata": {},
   "source": [
    "## Clean Data"
   ]
  },
  {
   "cell_type": "code",
   "execution_count": null,
   "id": "788f43d5",
   "metadata": {},
   "outputs": [],
   "source": [
    "dialysis_cleaner = DialysisCleaner()\n",
    "dialysis_cleaned = dialysis_cleaner.clean_data(df=dialysis_renamed)"
   ]
  },
  {
   "cell_type": "markdown",
   "id": "491c62ab",
   "metadata": {},
   "source": [
    "## Map Data to Episodes"
   ]
  },
  {
   "cell_type": "code",
   "execution_count": null,
   "id": "53f98bcf",
   "metadata": {},
   "outputs": [],
   "source": [
    "reference_data = dialysis_cleaner.clean_data(pd.read_parquet(paths.REFERENCE_DATA_PATH))\n",
    "reference_data['patient_id'] = reference_data['patient_id'].astype(int)\n",
    "DAYS_BEFORE_BASELINE = pd.Timedelta(99999, unit=\"days\")\n",
    "DAYS_AFTER_BASELINE = -pd.Timedelta(1, unit=\"days\")\n",
    "\n",
    "dialysis_mapped = dialysis_cleaner.map_data_to_interval(\n",
    "    reference_df=reference_data[\n",
    "        [\"episode_id\", \"patient_id\", \"sample_date\"]\n",
    "    ].drop_duplicates(),\n",
    "    df=dialysis_cleaned,\n",
    "    patient_id_col_name=\"patient_id\",\n",
    "    date_col_name=\"dialysis_date\",\n",
    "    baseline_col_name=\"sample_date\",\n",
    "    time_before_baseline=DAYS_BEFORE_BASELINE,\n",
    "    time_after_baseline=DAYS_AFTER_BASELINE,\n",
    ")"
   ]
  },
  {
   "cell_type": "markdown",
   "id": "cafee38d",
   "metadata": {},
   "source": [
    "## Add Dialysis Indicator"
   ]
  },
  {
   "cell_type": "code",
   "execution_count": null,
   "id": "1aa5cd17",
   "metadata": {},
   "outputs": [],
   "source": [
    "dialysis_mapped[\"had_dialysis\"] = dialysis_cleaner.get_prefix_match_mask(\n",
    "    df=dialysis_mapped,\n",
    "    target_cols=[\"dialysis_type\"],\n",
    "    prefixes=[\"Hemodiafiltration (HDF)\", \"Hemodialys (HD)\", \"Hemofiltration (HF)\"],\n",
    ")"
   ]
  },
  {
   "cell_type": "code",
   "execution_count": null,
   "id": "a97c030f",
   "metadata": {},
   "outputs": [],
   "source": [
    "dialysis_mapped"
   ]
  },
  {
   "cell_type": "markdown",
   "id": "7d63e6da",
   "metadata": {},
   "source": [
    "## Summarize Episodes"
   ]
  },
  {
   "cell_type": "code",
   "execution_count": null,
   "id": "c6f630d8",
   "metadata": {},
   "outputs": [],
   "source": [
    "def summarize_episode(df):\n",
    "    df = df.copy()\n",
    "    episode_id = df[\"episode_id\"].iloc[0]\n",
    "    dialysis = df.had_dialysis.max()\n",
    "    return {\n",
    "        \"episode_id\": episode_id,\n",
    "        \"dialysis_prior\": dialysis\n",
    "    }\n",
    "\n",
    "dialysis_episode_summary = dialysis_cleaner.summarize_data_by_episode(\n",
    "    df=dialysis_mapped, episode_id_col=\"episode_id\", summary_function=summarize_episode\n",
    ")"
   ]
  },
  {
   "cell_type": "markdown",
   "id": "cfde870a",
   "metadata": {},
   "source": [
    "## Save Processed Data"
   ]
  },
  {
   "cell_type": "code",
   "execution_count": null,
   "id": "11f3ecb2",
   "metadata": {},
   "outputs": [],
   "source": [
    "if not os.path.exists(paths.STORE_DIALYSIS_DATA_PATH):\n",
    "    os.makedirs(paths.STORE_DIALYSIS_DATA_PATH)\n",
    "    os.makedirs(paths.STORE_DIALYSIS_DATA_PATH + \"/mapped\")\n",
    "    \n",
    "dialysis_episode_summary.to_parquet(f\"{paths.STORE_DIALYSIS_DATA_PATH}/dialysis_episode_summary.parquet\")\n",
    "dialysis_mapped.to_parquet(f\"{paths.STORE_DIALYSIS_DATA_PATH}/mapped/dialysis_episode_mapped.parquet\")"
   ]
  }
 ],
 "metadata": {
  "kernelspec": {
   "display_name": "bsi",
   "language": "python",
   "name": "python3"
  },
  "language_info": {
   "codemirror_mode": {
    "name": "ipython",
    "version": 3
   },
   "file_extension": ".py",
   "mimetype": "text/x-python",
   "name": "python",
   "nbconvert_exporter": "python",
   "pygments_lexer": "ipython3",
   "version": "3.12.2"
  }
 },
 "nbformat": 4,
 "nbformat_minor": 5
}

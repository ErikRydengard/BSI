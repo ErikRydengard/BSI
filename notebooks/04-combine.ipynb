{
 "cells": [
  {
   "cell_type": "markdown",
   "metadata": {},
   "source": [
    "# Combine Processed Data"
   ]
  },
  {
   "cell_type": "code",
   "execution_count": null,
   "metadata": {},
   "outputs": [],
   "source": [
    "import pandas as pd\n",
    "\n",
    "import sys\n",
    "import os\n",
    "from pathlib import Path\n",
    "from config import Config as paths\n",
    "project_root = Path(\"..\").resolve()\n",
    "sys.path.insert(0, str(project_root))\n",
    "from data_cleaning.cleaners.baseCleaner import BaseCleaner\n",
    "base_cleaner = BaseCleaner()\n"
   ]
  },
  {
   "cell_type": "markdown",
   "metadata": {},
   "source": [
    "## Load Data"
   ]
  },
  {
   "cell_type": "code",
   "execution_count": null,
   "metadata": {},
   "outputs": [],
   "source": [
    "microbiology = pd.read_parquet(f\"{paths.STORE_MICROBIOLOGY_PATH}/microbiology_dedub.parquet\")\n",
    "ceiling_data = pd.read_parquet(f\"{paths.STORE_CEILING_DATA_PATH}/ceiling_data_summary.parquet\")\n",
    "diagnosis = pd.read_parquet(f\"{paths.STORE_DIAGNOSIS_DATA_PATH}/diagnosis_combined_summary.parquet\")\n",
    "dialysis = pd.read_parquet(f\"{paths.STORE_DIALYSIS_DATA_PATH}/dialysis_episode_summary.parquet\")\n",
    "medicine = pd.read_parquet(f\"{paths.STORE_MEDICINE_DATA_PATH}/medicine_episode_summary.parquet\")\n",
    "orbit = pd.read_parquet(f\"{paths.STORE_ORBIT_DATA_PATH}/orbit_surgery_combined.parquet\")\n",
    "outcome = pd.read_parquet(f\"{paths.STORE_OUTCOME_DATA_PATH}/outcome_data.parquet\")\n",
    "lab_vitals = pd.read_parquet(paths.STORE_PATH + \"/laboratory_vitals\" + \"/laboratory_vitals_first_measurements_24_hours.parquet\")\n"
   ]
  },
  {
   "cell_type": "code",
   "execution_count": null,
   "metadata": {},
   "outputs": [],
   "source": [
    "cols_at_beginning = ['episode_id','patient_id','sample_id']\n",
    "microbiology = microbiology[cols_at_beginning + [col for col in microbiology.columns if col not in cols_at_beginning]]"
   ]
  },
  {
   "cell_type": "markdown",
   "metadata": {},
   "source": [
    "## Merge Data"
   ]
  },
  {
   "cell_type": "code",
   "execution_count": null,
   "metadata": {},
   "outputs": [],
   "source": [
    "final_df = microbiology.merge(ceiling_data, on='episode_id', how='left')\n",
    "final_df = final_df.merge(diagnosis, on='episode_id', how='left')\n",
    "final_df = final_df.merge(dialysis, on='episode_id', how='left')\n",
    "final_df = final_df.merge(medicine, on='episode_id', how='left')\n",
    "final_df = final_df.merge(orbit, on='episode_id', how='left')\n",
    "final_df = final_df.merge(outcome, on='episode_id', how='left')\n",
    "final_df = final_df.merge(lab_vitals, on='episode_id', how='left')\n",
    "final_df = base_cleaner.clean_data(final_df)\n"
   ]
  },
  {
   "cell_type": "markdown",
   "metadata": {},
   "source": [
    "## Save Combined Data"
   ]
  },
  {
   "cell_type": "code",
   "execution_count": null,
   "metadata": {},
   "outputs": [],
   "source": [
    "if not os.path.exists(paths.STORE_PATH):\n",
    "    os.makedirs(paths.STORE_PATH)\n",
    "\n",
    "final_df.to_parquet(f\"{paths.STORE_PATH}/combined_data.parquet\")"
   ]
  }
 ],
 "metadata": {
  "kernelspec": {
   "display_name": "bsi",
   "language": "python",
   "name": "python3"
  },
  "language_info": {
   "codemirror_mode": {
    "name": "ipython",
    "version": 3
   },
   "file_extension": ".py",
   "mimetype": "text/x-python",
   "name": "python",
   "nbconvert_exporter": "python",
   "pygments_lexer": "ipython3",
   "version": "3.12.2"
  }
 },
 "nbformat": 4,
 "nbformat_minor": 2
}

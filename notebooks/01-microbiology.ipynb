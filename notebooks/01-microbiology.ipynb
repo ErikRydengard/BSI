{
 "cells": [
  {
   "cell_type": "markdown",
   "id": "10bbec3f",
   "metadata": {},
   "source": [
    "# Microbiology Data Processing Pipeline\n"
   ]
  },
  {
   "cell_type": "code",
   "execution_count": null,
   "id": "1073b238",
   "metadata": {},
   "outputs": [],
   "source": [
    "import sys\n",
    "import os\n",
    "from config import Config as paths\n",
    "from pathlib import Path\n",
    "\n",
    "project_root = Path(\"..\").resolve()\n",
    "sys.path.insert(0, str(project_root))\n",
    "\n",
    "import pandas as pd\n",
    "import matplotlib.pyplot as plt\n",
    "from data_cleaning.cleaners.microbiology.clean_data_LIMS import LIMSCleaner\n",
    "from data_cleaning.cleaners.microbiology.clean_data_wwBakt import WWBaktCleaner\n",
    "from data_cleaning.cleaners.baseCleaner import BaseCleaner\n",
    "from data_cleaning.renaming import (\n",
    "    generate_and_save_rename_columns_json,\n",
    "    rename_columns,\n",
    "    generate_and_save_rename_values_json,\n",
    "    rename_values,\n",
    ")\n",
    "\n",
    "pd.set_option(\"display.max_columns\", None)\n",
    "base_cleaner = BaseCleaner()"
   ]
  },
  {
   "cell_type": "markdown",
   "id": "945ce1d7",
   "metadata": {},
   "source": [
    "## Global Variables for Paths\n"
   ]
  },
  {
   "cell_type": "code",
   "execution_count": null,
   "id": "cba191dd",
   "metadata": {},
   "outputs": [],
   "source": [
    "wwbakt = pd.read_parquet(paths.WWBAKT_PATH)\n",
    "lims = pd.read_parquet(paths.LIMS_PATH)"
   ]
  },
  {
   "cell_type": "code",
   "execution_count": null,
   "id": "ca720712",
   "metadata": {},
   "outputs": [],
   "source": [
    "wwbakt.loc[wwbakt.Avd == 'OB','Avd'] = 'OB0'"
   ]
  },
  {
   "cell_type": "markdown",
   "id": "ad47b281",
   "metadata": {},
   "source": [
    "## Remove rows with only negative results"
   ]
  },
  {
   "cell_type": "code",
   "execution_count": null,
   "id": "f2243626",
   "metadata": {},
   "outputs": [],
   "source": [
    "# Ta bort rader med endast negativa resultat.\n",
    "wwbakt = wwbakt[~(wwbakt['TTD Result 1'].str.lower().str.startswith('neg',na=False) & wwbakt['TTD Result'].str.lower().str.startswith('neg',na=False))]\n",
    "wwbakt = wwbakt[~wwbakt.BaText.str.contains('mikroskopi:',case=False,na=False)]\n",
    "wwbakt = wwbakt[~wwbakt.BaText.str.contains('mikroskopi visar',case=False,na=False)]\n",
    "wwbakt = wwbakt[~wwbakt.BaText.isna()]"
   ]
  },
  {
   "cell_type": "markdown",
   "id": "e58a051b",
   "metadata": {},
   "source": [
    "## Add species\n"
   ]
  },
  {
   "cell_type": "code",
   "execution_count": null,
   "id": "7852a3af",
   "metadata": {},
   "outputs": [],
   "source": [
    "# Detta kommer att fixas sen när rename filerna är klara\n",
    "lims_species = pd.read_parquet(\"../rename_files/temp_files/LIMS_rename_bacteria.parquet\")\n",
    "wwbakt_species = pd.read_parquet(\"../rename_files/temp_files/wwBakt_rename_bacteria.parquet\")"
   ]
  },
  {
   "cell_type": "code",
   "execution_count": null,
   "id": "eb0a6384",
   "metadata": {},
   "outputs": [],
   "source": [
    "lims = pd.merge(lims, lims_species, on=\"Mikroorganism\", how=\"left\")\n",
    "wwbakt = pd.merge(wwbakt, wwbakt_species, on=\"BaText\", how=\"left\")"
   ]
  },
  {
   "cell_type": "markdown",
   "id": "4c73e5dd",
   "metadata": {},
   "source": [
    "## Separate SIR Data\n"
   ]
  },
  {
   "cell_type": "code",
   "execution_count": null,
   "id": "1ffb159e",
   "metadata": {},
   "outputs": [],
   "source": [
    "microbiology_cleaner = BaseCleaner()\n",
    "wwbakt_cleaner = WWBaktCleaner()\n",
    "lims_cleaner = LIMSCleaner()\n",
    "\n",
    "wwbakt_data_casefinding, wwbakt_sir_data_long_format = wwbakt_cleaner.clean_wwBakt_data(\n",
    "    wwbakt\n",
    ")\n",
    "lims_data_casefinding, lims_sir_data_long_format = lims_cleaner.clean_LIMS_data(lims)"
   ]
  },
  {
   "cell_type": "markdown",
   "id": "80e5810e",
   "metadata": {},
   "source": [
    "## Generate Renaming Files For Columns\n"
   ]
  },
  {
   "cell_type": "code",
   "execution_count": null,
   "id": "75bb64e0",
   "metadata": {},
   "outputs": [],
   "source": [
    "generate_and_save_rename_columns_json(\n",
    "    wwbakt_data_casefinding, f\"{paths.RENAME_DIR}/wwBakt/rename_columns.json\"\n",
    ")\n",
    "generate_and_save_rename_columns_json(\n",
    "    lims_data_casefinding, f\"{paths.RENAME_DIR}/LIMS/rename_columns.json\"\n",
    ")\n",
    "generate_and_save_rename_columns_json(\n",
    "    wwbakt_sir_data_long_format, f\"{paths.RENAME_DIR}/wwBakt/sir_rename_columns.json\"\n",
    ")\n",
    "generate_and_save_rename_columns_json(\n",
    "    lims_sir_data_long_format, f\"{paths.RENAME_DIR}/LIMS/sir_rename_columns.json\"\n",
    ")"
   ]
  },
  {
   "cell_type": "markdown",
   "id": "7439b114",
   "metadata": {},
   "source": [
    "## Rename Columns\n"
   ]
  },
  {
   "cell_type": "code",
   "execution_count": null,
   "id": "ccc5d4b4",
   "metadata": {},
   "outputs": [],
   "source": [
    "wwbakt_data_casefinding_renamed = rename_columns(\n",
    "    wwbakt_data_casefinding, f\"{paths.RENAME_DIR}/wwBakt/rename_columns.json\"\n",
    ")\n",
    "lims_data_casefinding_renamed = rename_columns(\n",
    "    lims_data_casefinding, f\"{paths.RENAME_DIR}/LIMS/rename_columns.json\"\n",
    ")\n",
    "wwbakt_sir_data_long_format_renamed = rename_columns(\n",
    "    wwbakt_sir_data_long_format, f\"{paths.RENAME_DIR}/wwBakt/sir_rename_columns.json\"\n",
    ")\n",
    "lims_sir_data_long_format_renamed = rename_columns(\n",
    "    lims_sir_data_long_format, f\"{paths.RENAME_DIR}/LIMS/sir_rename_columns.json\"\n",
    ")"
   ]
  },
  {
   "cell_type": "markdown",
   "id": "0d9e168c",
   "metadata": {},
   "source": [
    "## Combine and Clean Data\n"
   ]
  },
  {
   "cell_type": "code",
   "execution_count": null,
   "id": "46fdc28d",
   "metadata": {},
   "outputs": [],
   "source": [
    "casefinding_combined = base_cleaner.concat_data(\n",
    "    wwbakt_data_casefinding_renamed, lims_data_casefinding_renamed\n",
    ")\n",
    "sir_data_combined = base_cleaner.concat_data(\n",
    "    wwbakt_sir_data_long_format_renamed, lims_sir_data_long_format_renamed\n",
    ")\n",
    "\n",
    "casefinding_cleaned = base_cleaner.clean_data(casefinding_combined)\n",
    "# finns ett labnummer som finns i både wwBakt och LIMS\n",
    "sir_data_cleaned = base_cleaner.clean_data(sir_data_combined)"
   ]
  },
  {
   "cell_type": "markdown",
   "id": "a23f46ca",
   "metadata": {},
   "source": [
    "## Keep only blood cultures"
   ]
  },
  {
   "cell_type": "code",
   "execution_count": null,
   "id": "9272260c",
   "metadata": {},
   "outputs": [],
   "source": [
    "casefinding_only_blood = wwbakt_cleaner.extract_blood_samples(\n",
    "    df=casefinding_cleaned, variable_name=\"examination\", keyword=\"blododling\"\n",
    ")\n",
    "casefinding_only_blood = wwbakt_cleaner.extract_blood_samples(\n",
    "    df=casefinding_only_blood, variable_name=\"sample_material\", keyword=\"blod\"\n",
    ")"
   ]
  },
  {
   "cell_type": "markdown",
   "id": "3f2f7e1c",
   "metadata": {},
   "source": [
    "## Add Sample times"
   ]
  },
  {
   "cell_type": "code",
   "execution_count": null,
   "id": "4a8cf40a",
   "metadata": {},
   "outputs": [],
   "source": [
    "# finns labnr som har flera rader\n",
    "new_times = lims_cleaner.clean_data(pd.read_parquet(paths.NEW_TIMES_Path)).sort_values(\"sample_datetime\").drop_duplicates(\"labnr\")\n",
    "casefinding_cleaned = pd.merge(casefinding_only_blood,new_times,how='left',on='labnr')"
   ]
  },
  {
   "cell_type": "code",
   "execution_count": null,
   "id": "245eeda6",
   "metadata": {},
   "outputs": [],
   "source": [
    "print('labnr',casefinding_cleaned.labnr.nunique())\n",
    "print('patienter',casefinding_cleaned.patient_id.nunique())\n",
    "print('rader',casefinding_cleaned.shape[0])"
   ]
  },
  {
   "cell_type": "markdown",
   "id": "a2b337d1",
   "metadata": {},
   "source": [
    "## Remove negativ"
   ]
  },
  {
   "cell_type": "code",
   "execution_count": null,
   "id": "81205ffd",
   "metadata": {},
   "outputs": [],
   "source": [
    "casefinding_cleaned = casefinding_cleaned[~casefinding_cleaned.bottle_outcome.str.contains('neg',case=False,na=False)]"
   ]
  },
  {
   "cell_type": "code",
   "execution_count": null,
   "id": "c28c174e",
   "metadata": {},
   "outputs": [],
   "source": [
    "print('labnr',casefinding_cleaned.labnr.nunique())\n",
    "print('patienter',casefinding_cleaned.patient_id.nunique())\n",
    "print('rader',casefinding_cleaned.shape[0])"
   ]
  },
  {
   "cell_type": "markdown",
   "id": "3e7bbf51",
   "metadata": {},
   "source": [
    "## Add potential contaminants\n"
   ]
  },
  {
   "cell_type": "code",
   "execution_count": null,
   "id": "6cce776d",
   "metadata": {},
   "outputs": [],
   "source": [
    "contaminants = pd.read_excel(\"../rename_files/temp_files/species_list.xlsx\")\n",
    "contaminants = contaminants[\n",
    "    [\"species\", \"potential_contaminant\", \"genus\", \"category_1\", \"category_2\",\"gram\",\"anaerobe\"]\n",
    "].drop_duplicates()\n",
    "\n",
    "contaminants[\"species\"] = contaminants[\"species\"].str.lower()\n",
    "contaminants[\"genus\"] = contaminants[\"genus\"].str.lower()\n",
    "contaminants[\"category_1\"] = contaminants[\"category_1\"].str.lower()\n",
    "contaminants[\"category_2\"] = contaminants[\"category_2\"].str.lower()\n",
    "contaminants[\"gram\"] = contaminants[\"gram\"].str.lower()\n",
    "contaminants[\"potential_contaminant\"] = contaminants[\"potential_contaminant\"].astype(bool)\n",
    "\n"
   ]
  },
  {
   "cell_type": "code",
   "execution_count": null,
   "id": "63e6c8e0",
   "metadata": {},
   "outputs": [],
   "source": [
    "casefinding_cleaned['species'] = casefinding_cleaned['species'].str.lower()\n",
    "casefinding_cleaned_with_bacterial_class = pd.merge(\n",
    "    casefinding_cleaned, contaminants.drop_duplicates(), on=\"species\", how=\"left\"\n",
    ")\n",
    "\n",
    "\n",
    "casefinding_cleaned_with_bacterial_class[\"potential_contaminant\"] = casefinding_cleaned_with_bacterial_class[\n",
    "    \"potential_contaminant\"\n",
    "].fillna(False)\n"
   ]
  },
  {
   "cell_type": "code",
   "execution_count": null,
   "id": "f7bfa8bc",
   "metadata": {},
   "outputs": [],
   "source": [
    "print('labnr',casefinding_cleaned_with_bacterial_class.labnr.nunique())\n",
    "print('patienter',casefinding_cleaned_with_bacterial_class.patient_id.nunique())\n",
    "print('rader',casefinding_cleaned_with_bacterial_class.shape[0])"
   ]
  },
  {
   "cell_type": "markdown",
   "id": "f022d48c",
   "metadata": {},
   "source": [
    "## Generate Rename File for Values\n"
   ]
  },
  {
   "cell_type": "code",
   "execution_count": null,
   "id": "eeb1d993",
   "metadata": {},
   "outputs": [],
   "source": [
    "generate_and_save_rename_values_json(\n",
    "    df=casefinding_cleaned_with_bacterial_class,\n",
    "    file_path=f\"{paths.RENAME_DIR}/microbiology/rename_values.json\",\n",
    "    limit=410,\n",
    ")\n",
    "generate_and_save_rename_values_json(\n",
    "    df=casefinding_cleaned_with_bacterial_class,\n",
    "    file_path=f\"{paths.RENAME_DIR}/microbiology/sir_rename_values.json\",\n",
    "    limit=600,\n",
    ")"
   ]
  },
  {
   "cell_type": "markdown",
   "id": "fafeeecb",
   "metadata": {},
   "source": [
    "## Rename Values\n"
   ]
  },
  {
   "cell_type": "code",
   "execution_count": null,
   "id": "283079da",
   "metadata": {},
   "outputs": [],
   "source": [
    "casefinding_cleaned_renamed = rename_values(\n",
    "    casefinding_cleaned_with_bacterial_class, f\"{paths.RENAME_DIR}/microbiology/rename_values.json\"\n",
    ")\n",
    "sir_data_cleaned_renamed = rename_values(\n",
    "    sir_data_cleaned, f\"{paths.RENAME_DIR}/microbiology/sir_rename_values.json\"\n",
    ").drop_duplicates()"
   ]
  },
  {
   "cell_type": "markdown",
   "id": "90c86bee",
   "metadata": {},
   "source": [
    "## Only keep data sampled on 31st of may 2013 and after"
   ]
  },
  {
   "cell_type": "code",
   "execution_count": null,
   "id": "47c28401",
   "metadata": {},
   "outputs": [],
   "source": [
    "\n",
    "\"\"\" casefinding_cleaned_renamed = casefinding_cleaned_renamed[\n",
    "    casefinding_cleaned_renamed[\"sample_date\"] >= pd.to_datetime(\"2013-05-31\")\n",
    "] \"\"\""
   ]
  },
  {
   "cell_type": "markdown",
   "id": "5bdc77d9",
   "metadata": {},
   "source": [
    "## Classify contaminants\n"
   ]
  },
  {
   "cell_type": "code",
   "execution_count": null,
   "id": "5bf057d4",
   "metadata": {},
   "outputs": [],
   "source": [
    "casefinding_cleaned_renamed.loc[casefinding_cleaned_renamed.bottle_outcome.isna(),'bottle_outcome'] = 'pos'"
   ]
  },
  {
   "cell_type": "code",
   "execution_count": null,
   "id": "a1090d0f",
   "metadata": {},
   "outputs": [],
   "source": [
    "casefinding_microbiological_classified = wwbakt_cleaner.classify_microbiological_findings(\n",
    "    casefinding_cleaned_renamed,\n",
    "    method=\"labnr\",\n",
    "    outcome_col=\"bottle_outcome\",\n",
    "    outcome_positive_prefix=\"pos\",\n",
    "    patient_id_col=\"patient_id\",\n",
    "    sample_date_col=\"sample_date\",\n",
    "    species_col=\"microorganism\",\n",
    "    labnr_col=\"labnr\",\n",
    "    potential_contaminant_col=\"potential_contaminant\",\n",
    ")"
   ]
  },
  {
   "cell_type": "code",
   "execution_count": null,
   "id": "b40374c2",
   "metadata": {},
   "outputs": [],
   "source": [
    "print('labnr',casefinding_microbiological_classified.labnr.nunique())\n",
    "print('patienter',casefinding_microbiological_classified.patient_id.nunique())\n",
    "print('rader',casefinding_microbiological_classified.shape[0])\n",
    "casefinding_microbiological_classified"
   ]
  },
  {
   "cell_type": "markdown",
   "id": "01c4f1a9",
   "metadata": {},
   "source": [
    "## Add TTP Column\n"
   ]
  },
  {
   "cell_type": "code",
   "execution_count": null,
   "id": "ad176bb5",
   "metadata": {},
   "outputs": [],
   "source": [
    "casefinding_with_ttp = wwbakt_cleaner.add_ttp(\n",
    "    df=casefinding_microbiological_classified,\n",
    "    result_col_name=\"bottle_outcome\",\n",
    "    incubation_date_col_name=\"incubation_date\",\n",
    "    ttd_col_name=\"TTD\",\n",
    "    result_date_col_name=\"bottle_report_date\",\n",
    ")"
   ]
  },
  {
   "cell_type": "code",
   "execution_count": null,
   "id": "f385c5d8",
   "metadata": {},
   "outputs": [],
   "source": [
    "print('labnr',casefinding_with_ttp.labnr.nunique())\n",
    "print('patienter',casefinding_with_ttp.patient_id.nunique())\n",
    "print('rader',casefinding_with_ttp.shape[0])"
   ]
  },
  {
   "cell_type": "markdown",
   "id": "fc8514fa",
   "metadata": {},
   "source": [
    "## Filter\n"
   ]
  },
  {
   "cell_type": "code",
   "execution_count": null,
   "id": "1c527b5f",
   "metadata": {},
   "outputs": [],
   "source": [
    "test1 = set(casefinding_with_ttp.patient_id.unique().tolist())\n",
    "\n",
    "def filter_microbiology(\n",
    "    df: pd.DataFrame,\n",
    "    remove_negative_samples: bool = True,\n",
    "    remove_contaminants: bool = True,\n",
    "):\n",
    "\n",
    "    df = df.copy()\n",
    "    if remove_negative_samples:\n",
    "        df = df[df[\"bottle_outcome\"].str.lower().str.startswith(\"pos\", na=False)]\n",
    "\n",
    "    if remove_contaminants:\n",
    "        df = df[df[\"mono_poly_contamination\"] != \"cont\"]\n",
    "\n",
    "    return df\n",
    "\n",
    "\n",
    "casefinding_filtered = filter_microbiology(\n",
    "    casefinding_with_ttp, remove_negative_samples=True, remove_contaminants=True\n",
    ")\n",
    "\n",
    "test2 = set(casefinding_filtered.patient_id.unique().tolist())\n",
    "\n",
    "print('labnr',casefinding_filtered.labnr.nunique())\n",
    "print('patienter',casefinding_filtered.patient_id.nunique())\n",
    "print('rader',casefinding_filtered.shape[0])"
   ]
  },
  {
   "cell_type": "markdown",
   "id": "de9ff7ee",
   "metadata": {},
   "source": [
    "## Group into Episodes"
   ]
  },
  {
   "cell_type": "code",
   "execution_count": null,
   "id": "ee96c0a0",
   "metadata": {},
   "outputs": [],
   "source": [
    "casefinding_with_episodes = wwbakt_cleaner.determine_episode(\n",
    "    df=casefinding_filtered,\n",
    "    columns_to_sort_by=[\"patient_id\", \"sample_date\"],\n",
    "    patient_id_col_name=\"patient_id\",\n",
    "    sample_date_col_name=\"sample_date\",\n",
    "    time=30,\n",
    ")"
   ]
  },
  {
   "cell_type": "code",
   "execution_count": null,
   "id": "d210750d",
   "metadata": {},
   "outputs": [],
   "source": [
    "print('sid: ', casefinding_with_episodes.labnr.nunique())\n",
    "print('patient_ids: ', casefinding_with_episodes.patient_id.nunique())\n",
    "print('rader: ', casefinding_with_episodes.shape[0])\n",
    "print('episode id',casefinding_with_episodes.episode_id.nunique())\n",
    "\n",
    "\n"
   ]
  },
  {
   "cell_type": "markdown",
   "id": "916da897",
   "metadata": {},
   "source": [
    "## Add time to sample dates"
   ]
  },
  {
   "cell_type": "code",
   "execution_count": null,
   "id": "e95cb651",
   "metadata": {},
   "outputs": [],
   "source": [
    "mask = casefinding_with_episodes[\"sample_datetime\"].notna()\n",
    "casefinding_with_episodes.loc[mask, \"sample_date\"] = casefinding_with_episodes.loc[mask, \"sample_datetime\"]"
   ]
  },
  {
   "cell_type": "markdown",
   "id": "51c438f6",
   "metadata": {},
   "source": [
    "## Deduplicate Data\n"
   ]
  },
  {
   "cell_type": "code",
   "execution_count": null,
   "id": "5825f12b",
   "metadata": {},
   "outputs": [],
   "source": [
    "def deduplicate_microbiological(df, keep_only_index_day: bool = True):\n",
    "    df = df.copy()\n",
    "\n",
    "    if keep_only_index_day:\n",
    "\n",
    "        # set index_day == True for samples taken on the first day of the episode\n",
    "        df[\"sample_taken_on_index_day\"] = df[\"sample_date\"] == df.groupby(\n",
    "            [\"episode_id\", \"patient_id\"]\n",
    "        )[\"sample_date\"].transform(\"min\")\n",
    "        \n",
    "        # filter to only keep samples taken on the index day\n",
    "        df = df[df[\"sample_taken_on_index_day\"] == True]\n",
    "        \n",
    "        # update columns to reflect if the finding is polymicrobial or mono\n",
    "        df.loc[df.mono_poly_contamination == 'poly', ['species','category_1','category_2','genus','bacterial_class']] = ['polymicrobial','polymicrobial','polymicrobial','polymicrobial','polymicrobial']\n",
    "\n",
    "        # keep the row with the shortest TTP\n",
    "        df = df.sort_values(by=[\"TTP_hours\"], ascending=True)\n",
    "        df = df.drop_duplicates(\n",
    "            subset=[\"episode_id\"], keep=\"first\"\n",
    "        )\n",
    "\n",
    "    return df\n",
    "\n",
    "\n",
    "casefinding_with_episodes_dedub = deduplicate_microbiological(\n",
    "    df=casefinding_with_episodes\n",
    ")"
   ]
  },
  {
   "cell_type": "code",
   "execution_count": null,
   "id": "2cb55b57",
   "metadata": {},
   "outputs": [],
   "source": [
    "print('sid: ', casefinding_with_episodes_dedub.labnr.nunique())\n",
    "print('patient_ids: ', casefinding_with_episodes_dedub.patient_id.nunique())\n",
    "print('episode id',casefinding_with_episodes_dedub.episode_id.nunique())\n",
    "print('rader: ', casefinding_with_episodes_dedub.shape[0])"
   ]
  },
  {
   "cell_type": "markdown",
   "id": "06d99a13",
   "metadata": {},
   "source": [
    "## Add SIR data\n",
    "# TODO\n",
    "- Tänker att man kan ha tre olika kolumner t.ex. SIR_S, SIR_I och SIR_R\n",
    "- För varje rad i kolumnerna så skapar vi en sträng med följande format:\n",
    "    species 1: antibiotika 1 | antibiotika 2 | ... \\n\n",
    "    species 2: antibiotika 1 | antibiotika 2 | ... \n",
    "    ..."
   ]
  },
  {
   "cell_type": "markdown",
   "id": "ea8ae8e4",
   "metadata": {},
   "source": [
    "## Save Processed microbiology\n"
   ]
  },
  {
   "cell_type": "code",
   "execution_count": null,
   "id": "12bd9529",
   "metadata": {},
   "outputs": [],
   "source": [
    "if not os.path.exists(paths.STORE_MICROBIOLOGY_PATH):\n",
    "    os.makedirs(paths.STORE_MICROBIOLOGY_PATH)\n",
    "\n",
    "casefinding_with_episodes_dedub.to_parquet(\n",
    "    f\"{paths.STORE_MICROBIOLOGY_PATH}/microbiology_dedub.parquet\",\n",
    ")\n",
    "casefinding_with_episodes.to_parquet(\n",
    "    f\"{paths.STORE_MICROBIOLOGY_PATH}/microbiology_without_contaminants.parquet\",\n",
    ")\n",
    "sir_data_cleaned_renamed.to_parquet(f\"{paths.STORE_MICROBIOLOGY_PATH}/sir.parquet\")"
   ]
  }
 ],
 "metadata": {
  "kernelspec": {
   "display_name": "bsi",
   "language": "python",
   "name": "python3"
  },
  "language_info": {
   "codemirror_mode": {
    "name": "ipython",
    "version": 3
   },
   "file_extension": ".py",
   "mimetype": "text/x-python",
   "name": "python",
   "nbconvert_exporter": "python",
   "pygments_lexer": "ipython3",
   "version": "3.12.2"
  }
 },
 "nbformat": 4,
 "nbformat_minor": 5
}

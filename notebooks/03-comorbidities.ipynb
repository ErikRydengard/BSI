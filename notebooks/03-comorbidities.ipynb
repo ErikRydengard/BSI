{
 "cells": [
  {
   "cell_type": "markdown",
   "id": "0252ee88",
   "metadata": {},
   "source": [
    "# Comorbidities Data Processing Pipeline"
   ]
  },
  {
   "cell_type": "code",
   "execution_count": null,
   "id": "d6edf0ae",
   "metadata": {},
   "outputs": [],
   "source": [
    "import sys\n",
    "from pathlib import Path\n",
    "from config import Config as paths\n",
    "import pandas as pd\n",
    "import sys\n",
    "import os\n",
    "\n",
    "project_root = Path(\"..\").resolve()\n",
    "sys.path.insert(0, str(project_root))\n",
    "\n",
    "from data_cleaning.renaming import (\n",
    "    generate_and_save_rename_columns_json,\n",
    "    rename_columns,\n",
    "    generate_and_save_rename_values_json,\n",
    "    rename_values,\n",
    ")\n",
    "from data_cleaning.utils import save_json, load_json\n",
    "from data_cleaning.cleaners.episode.episodeCleaner import EpisodeCleaner"
   ]
  },
  {
   "cell_type": "markdown",
   "id": "6ede09bd",
   "metadata": {},
   "source": [
    "## Read Data"
   ]
  },
  {
   "cell_type": "code",
   "execution_count": null,
   "id": "fed70d7e",
   "metadata": {},
   "outputs": [],
   "source": [
    "RSVD_OVA = pd.read_parquet(paths.RSVD_OVA_DIAGNOSIS_PATH)\n",
    "RSVD_SVA = pd.read_parquet(paths.RSVD_SVA_DIAGNOSIS_PATH)\n",
    "RSVD_CANCER = pd.read_parquet(paths.RSVD_CANCER_DIAGNOSIS_PATH)\n",
    "INFECTION_CODES = pd.read_excel(paths.INFECTION_CODES_PATH)['ICD-kod ID'].tolist()\n",
    "reference_data = pd.read_parquet(paths.REFERENCE_DATA_PATH)\n",
    "reference_data['patient_id'] = reference_data['patient_id'].astype(int)"
   ]
  },
  {
   "cell_type": "markdown",
   "id": "f6f5412d",
   "metadata": {},
   "source": [
    "## Generate Rename Columns Files"
   ]
  },
  {
   "cell_type": "code",
   "execution_count": null,
   "id": "69daba76",
   "metadata": {},
   "outputs": [],
   "source": [
    "generate_and_save_rename_columns_json(\n",
    "    RSVD_OVA, f\"{paths.RENAME_FILES_PATH_DIAGNOSIS}/RSVD/RSVD_OVA_rename_columns.json\"\n",
    ")\n",
    "generate_and_save_rename_columns_json(\n",
    "    RSVD_SVA, f\"{paths.RENAME_FILES_PATH_DIAGNOSIS}/RSVD/RSVD_SVA_rename_columns.json\"\n",
    ")\n",
    "generate_and_save_rename_columns_json(\n",
    "    RSVD_CANCER, f\"{paths.RENAME_FILES_PATH_DIAGNOSIS}/RSVD/RSVD_CANCER_rename_columns.json\"\n",
    ")"
   ]
  },
  {
   "cell_type": "markdown",
   "id": "30d28352",
   "metadata": {},
   "source": [
    "## Rename Columns"
   ]
  },
  {
   "cell_type": "code",
   "execution_count": null,
   "id": "e291f0b3",
   "metadata": {},
   "outputs": [],
   "source": [
    "RSVD_OVA_renamed = rename_columns(\n",
    "    RSVD_OVA, f\"{paths.RENAME_FILES_PATH_DIAGNOSIS}/RSVD/RSVD_OVA_rename_columns.json\"\n",
    ")\n",
    "RSVD_SVA_renamed = rename_columns(\n",
    "    RSVD_SVA, f\"{paths.RENAME_FILES_PATH_DIAGNOSIS}/RSVD/RSVD_SVA_rename_columns.json\"\n",
    ")\n",
    "RSVD_CANCER_renamed = rename_columns(\n",
    "    RSVD_CANCER, f\"{paths.RENAME_FILES_PATH_DIAGNOSIS}/RSVD/RSVD_CANCER_rename_columns.json\"\n",
    ")"
   ]
  },
  {
   "cell_type": "markdown",
   "id": "6588d207",
   "metadata": {},
   "source": [
    "## Add Origin"
   ]
  },
  {
   "cell_type": "code",
   "execution_count": null,
   "id": "226c7ffa",
   "metadata": {},
   "outputs": [],
   "source": [
    "RSVD_OVA_renamed[\"origin\"] = \"RSVD OVA\"\n",
    "RSVD_SVA_renamed[\"origin\"] = \"RSVD SVA\"\n",
    "RSVD_CANCER_renamed[\"origin\"] = \"RSVD Cancer\""
   ]
  },
  {
   "cell_type": "markdown",
   "id": "54762238",
   "metadata": {},
   "source": [
    "## Concatenate Data"
   ]
  },
  {
   "cell_type": "code",
   "execution_count": null,
   "id": "a4745ecb",
   "metadata": {},
   "outputs": [],
   "source": [
    "diagnosis_cleaner = EpisodeCleaner()\n",
    "RSVD_combined = diagnosis_cleaner.concat_data(\n",
    "    df1=RSVD_OVA_renamed, df2=RSVD_SVA_renamed\n",
    ")"
   ]
  },
  {
   "cell_type": "markdown",
   "id": "c347e6c7",
   "metadata": {},
   "source": [
    "## Generate Rename Values Files"
   ]
  },
  {
   "cell_type": "code",
   "execution_count": null,
   "id": "c96a7bf5",
   "metadata": {},
   "outputs": [],
   "source": [
    "generate_and_save_rename_values_json(\n",
    "    df=RSVD_combined,\n",
    "    file_path=f\"{paths.RENAME_FILES_PATH_DIAGNOSIS}/RSVD/RSVD_combined_rename_values.json\",\n",
    "    limit=100,\n",
    ")\n",
    "\n",
    "generate_and_save_rename_values_json(\n",
    "    df=RSVD_CANCER_renamed,\n",
    "    file_path=f\"{paths.RENAME_FILES_PATH_DIAGNOSIS}/RSVD/RSVD_CANCER_rename_values.json\",\n",
    "    limit=100,\n",
    ")"
   ]
  },
  {
   "cell_type": "markdown",
   "id": "f58e3b40",
   "metadata": {},
   "source": [
    "## Rename Values"
   ]
  },
  {
   "cell_type": "code",
   "execution_count": null,
   "id": "df68fd2e",
   "metadata": {},
   "outputs": [],
   "source": [
    "RSVD_combined_renamed_values = rename_values(\n",
    "    RSVD_combined, f\"{paths.RENAME_FILES_PATH_DIAGNOSIS}/RSVD/RSVD_combined_rename_values.json\"\n",
    ")\n",
    "\n",
    "RSVD_CANCER_renamed_values = rename_values(\n",
    "    RSVD_CANCER_renamed, f\"{paths.RENAME_FILES_PATH_DIAGNOSIS}/RSVD/RSVD_CANCER_rename_values.json\"\n",
    ")"
   ]
  },
  {
   "cell_type": "markdown",
   "id": "4720c494",
   "metadata": {},
   "source": [
    "## Clean Data"
   ]
  },
  {
   "cell_type": "code",
   "execution_count": null,
   "id": "1255f988",
   "metadata": {},
   "outputs": [],
   "source": [
    "RSVD_cleaned = diagnosis_cleaner.clean_data(RSVD_combined_renamed_values)\n",
    "RSVD_cleaned['diagnosis_code'] = RSVD_cleaned['diagnosis_code'].str.replace('-', '', regex=False)\n",
    "\n",
    "\n",
    "RSVD_CANCER_cleaned = diagnosis_cleaner.clean_data(RSVD_CANCER_renamed_values)\n",
    "RSVD_CANCER_cleaned['diagnosis_code'] = RSVD_CANCER_cleaned['diagnosis_code'].str.replace('-', '', regex=False)"
   ]
  },
  {
   "cell_type": "markdown",
   "id": "e7d06917",
   "metadata": {},
   "source": [
    "## Combine RSVD and MELIOR Diagnosis Data"
   ]
  },
  {
   "cell_type": "code",
   "execution_count": null,
   "id": "9b551dd6",
   "metadata": {},
   "outputs": [],
   "source": [
    "diagnosis = pd.concat([RSVD_CANCER_cleaned, RSVD_cleaned])"
   ]
  },
  {
   "cell_type": "code",
   "execution_count": null,
   "id": "38a4642b",
   "metadata": {},
   "outputs": [],
   "source": [
    "diagnosis = diagnosis[diagnosis.diagnosis_code.notnull()]"
   ]
  },
  {
   "cell_type": "markdown",
   "id": "c7a80c3d",
   "metadata": {},
   "source": [
    "## Map Data to Episodes"
   ]
  },
  {
   "cell_type": "markdown",
   "id": "6f66c3ee",
   "metadata": {},
   "source": [
    "### Diagnoser som är satta inom 365 dagar från provtagning"
   ]
  },
  {
   "cell_type": "code",
   "execution_count": null,
   "id": "05c238b9",
   "metadata": {},
   "outputs": [],
   "source": [
    "\n",
    "\n",
    "DAYS_BEFORE_BASELINE = pd.Timedelta(365, unit=\"days\")\n",
    "DAYS_AFTER_BASELINE = -pd.Timedelta(1, unit=\"days\")\n",
    "\n",
    "diagnosis_mapped_365_days = diagnosis_cleaner.map_data_to_interval(\n",
    "    reference_df=reference_data[\n",
    "        [\"episode_id\", \"patient_id\", \"sample_date\"]\n",
    "    ].drop_duplicates(),\n",
    "    df=diagnosis,\n",
    "    patient_id_col_name=\"patient_id\",\n",
    "    date_col_name=\"diagnosis_date\",\n",
    "    baseline_col_name=\"sample_date\",\n",
    "    time_before_baseline=DAYS_BEFORE_BASELINE,\n",
    "    time_after_baseline=DAYS_AFTER_BASELINE,\n",
    ")\n",
    "\n",
    "diagnosis_mapped_365_days = diagnosis_mapped_365_days.dropna(subset='diagnosis_code')\n"
   ]
  },
  {
   "cell_type": "code",
   "execution_count": null,
   "id": "6cf80fd7",
   "metadata": {},
   "outputs": [],
   "source": [
    "icd_codes = {\n",
    "    \"Malignancy\": ([\"C\", \"Z511\"], []),\n",
    "    \"Breast_cancer\": ([\"C50\"], []),\n",
    "    \"Skin_cancer\": ([\"C43\", \"C44\"], []),\n",
    "    \"Prostate_cancer\": ([\"C61\"], []),\n",
    "    \"Colorectal_cancer\": ([\"C18\", \"C19\", \"C20\", \"C21\"], []),\n",
    "    \"Lung_cancer\": ([\"C34\"], []),\n",
    "    \"Urinary_tract_cancer\": ([\"C64\", \"C65\", \"C66\", \"C67\", \"C68\"], []),\n",
    "    \"Blood_cancer\": (\n",
    "        [\n",
    "            \"C81\",\n",
    "            \"C82\",\n",
    "            \"C83\",\n",
    "            \"C84\",\n",
    "            \"C85\",\n",
    "            \"C86\",\n",
    "            \"C87\",\n",
    "            \"C88\",\n",
    "            \"C89\",\n",
    "            \"C90\",\n",
    "            \"C91\",\n",
    "            \"C92\",\n",
    "            \"C93\",\n",
    "            \"C94\",\n",
    "            \"C95\",\n",
    "            \"C96\",\n",
    "        ],\n",
    "        [],\n",
    "    ),\n",
    "    \"Other_cancer\": (\n",
    "        [\"C\"],\n",
    "        [\n",
    "            \"C50\",\n",
    "            \"C43\",\n",
    "            \"C44\",\n",
    "            \"C61\",\n",
    "            \"C18\",\n",
    "            \"C19\",\n",
    "            \"C20\",\n",
    "            \"C21\",\n",
    "            \"C34\",\n",
    "            \"C64\",\n",
    "            \"C65\",\n",
    "            \"C66\",\n",
    "            \"C67\",\n",
    "            \"C68\",\n",
    "            \"C81\",\n",
    "            \"C82\",\n",
    "            \"C83\",\n",
    "            \"C84\",\n",
    "            \"C85\",\n",
    "            \"C86\",\n",
    "            \"C87\",\n",
    "            \"C88\",\n",
    "            \"C89\",\n",
    "            \"C90\",\n",
    "            \"C91\",\n",
    "            \"C92\",\n",
    "            \"C93\",\n",
    "            \"C94\",\n",
    "            \"C95\",\n",
    "            \"C96\",\n",
    "        ],\n",
    "    ),\n",
    "    \"Anemia\": ([\"D5\", \"D60\", \"D61\", \"D62\", \"D63\", \"D64\"], []),\n",
    "    \"Immunosuppression\": (\n",
    "        [\n",
    "            \"B20\",\n",
    "            \"B21\",\n",
    "            \"B22\",\n",
    "            \"B23\",\n",
    "            \"B24\",\n",
    "            \"D70\",\n",
    "            \"D80\",\n",
    "            \"D81\",\n",
    "            \"D82\",\n",
    "            \"D83\",\n",
    "            \"D84\",\n",
    "            \"Z94\",\n",
    "        ],\n",
    "        [],\n",
    "    ),\n",
    "    \"Diabetes\": ([\"E10\", \"E11\", \"E12\", \"E13\", \"E14\"], []),\n",
    "    \"Psychiatric_disorder\": ([\"F\"], []),\n",
    "    \"Neurologic_disease\": ([\"G\", \"I6\"], [\"G0\", \"G47\"]),\n",
    "    \"Hypertension\": ([\"I10\", \"I11\", \"I12\", \"I13\", \"I14\", \"I15\"], []),\n",
    "    \"Cardiac_disease\": (\n",
    "        [\n",
    "            \"I05\",\n",
    "            \"I06\",\n",
    "            \"I07\",\n",
    "            \"I08\",\n",
    "            \"I09\",\n",
    "            \"I20\",\n",
    "            \"I21\",\n",
    "            \"I22\",\n",
    "            \"I23\",\n",
    "            \"I24\",\n",
    "            \"I25\",\n",
    "            \"I34\",\n",
    "            \"I35\",\n",
    "            \"I36\",\n",
    "            \"I37\",\n",
    "            \"I42\",\n",
    "            \"I43\",\n",
    "            \"I44\",\n",
    "            \"I45\",\n",
    "            \"I47\",\n",
    "            \"I48\",\n",
    "            \"I49\",\n",
    "            \"I50\",\n",
    "            \"Z95\",\n",
    "        ],\n",
    "        [],\n",
    "    ),\n",
    "    \"Peripheral_vascular_disease\": ([\"I7\", \"I8\"], []),\n",
    "    \"Pulmonary_disease\": ([\"I26\", \"I27\", \"I28\", \"J4\", \"J84\"], []),\n",
    "    \"Hepatic_disease\": ([\"B1\", \"K7\"], []),\n",
    "    \"Skin_disease\": ([\"L\"], [\"L0\"]),\n",
    "    \"Musculoskeletal_disease\": (\n",
    "        [\"M\"],\n",
    "        [\"M01\", \"M02\", \"M03\", \"M549\", \"M545\", \"M791\", \"M796\", \"M81\"],\n",
    "    ),\n",
    "    \"Genitourinary_disease\": (\n",
    "        [\"N0\", \"N1\", \"N2\", \"N3\", \"N4\", \"Z49\"],\n",
    "        [\"N10\", \"N17\", \"N30\", \"N39\", \"N136\"],\n",
    "    ),\n",
    "    \"Medical\": (\n",
    "        [\n",
    "            \"K50\",\n",
    "            \"K51\",\n",
    "            \"K52\",\n",
    "            \"K53\",\n",
    "            \"K54\",\n",
    "            \"K58\",\n",
    "            \"K59\",\n",
    "            \"K20\",\n",
    "            \"K21\",\n",
    "            \"K22\",\n",
    "            \"K23\",\n",
    "            \"K29\",\n",
    "            \"K30\",\n",
    "            \"K31\",\n",
    "            \"K90\",\n",
    "            \"K91\",\n",
    "            \"K92\",\n",
    "            \"K93\",\n",
    "            \"K94\",\n",
    "            \"K95\",\n",
    "            \"K25\",\n",
    "            \"K26\",\n",
    "            \"K27\",\n",
    "            \"K28\",\n",
    "        ],\n",
    "        [],\n",
    "    ),\n",
    "    \"Surgical\": (\n",
    "        [\n",
    "            \"K60\",\n",
    "            \"K61\",\n",
    "            \"K62\",\n",
    "            \"K63\",\n",
    "            \"K55\",\n",
    "            \"K56\",\n",
    "            \"K57\",\n",
    "            \"K44\",\n",
    "            \"K35\",\n",
    "            \"K36\",\n",
    "            \"K37\",\n",
    "            \"K40\",\n",
    "            \"K41\",\n",
    "            \"K42\",\n",
    "            \"K43\",\n",
    "            \"K45\",\n",
    "            \"K46\",\n",
    "            \"K80\",\n",
    "            \"K81\",\n",
    "            \"K82\",\n",
    "            \"K83\",\n",
    "            \"K84\",\n",
    "            \"K85\",\n",
    "            \"K86\",\n",
    "            \"K87\",\n",
    "            \"K222\",\n",
    "            \"K316\",\n",
    "        ],\n",
    "        [],\n",
    "    ),\n",
    "    \"Thrombosis\": (['T828','T858','I829'],[]),\n",
    "    \"Coagulation_disorders\": (['D65', 'D68', 'D69'],[]),\n",
    "    \"Previous_vascular_complications\": (['T82','T85'],[])\n",
    "}"
   ]
  },
  {
   "cell_type": "code",
   "execution_count": null,
   "id": "31a4bd0e",
   "metadata": {},
   "outputs": [],
   "source": [
    "diagnosis_mapped_365_days.head()"
   ]
  },
  {
   "cell_type": "code",
   "execution_count": null,
   "id": "2b9a06d7",
   "metadata": {},
   "outputs": [],
   "source": [
    "def assign_group_icd(index_cols, icd_dict, diagnosis_df, patients_df, code_col):\n",
    "\n",
    "    dx = diagnosis_df.copy()\n",
    "    dx[code_col] = dx[code_col].astype(str).str.upper().str.strip()\n",
    "\n",
    "    for category, (include_code, exclude_code) in icd_dict.items():\n",
    "        if include_code:\n",
    "            dx[category] = dx[code_col].str.startswith(tuple(include_code))\n",
    "        else:\n",
    "            dx[category] = False\n",
    "\n",
    "        if exclude_code:\n",
    "            dx[category + \"_exclude\"] = dx[code_col].str.startswith(tuple(exclude_code))\n",
    "        else:\n",
    "            dx[category + \"_exclude\"] = False\n",
    "\n",
    "       # om exclude == True så ska category sättas till False\n",
    "        dx[category] = dx[category] & ~dx[category + \"_exclude\"]\n",
    "\n",
    "        \n",
    "        dx = dx.drop(columns=[category + \"_exclude\"])\n",
    "\n",
    "    # Aggregate to patient level (any True -> True)\n",
    "    diagnosis_wide = (\n",
    "        dx.pivot_table(index=index_cols, values=list(icd_dict.keys()), aggfunc=\"max\")\n",
    "        .reset_index()\n",
    "    )\n",
    "\n",
    "    # Merge onto full patient list and fill missing with False\n",
    "    out = patients_df.merge(diagnosis_wide, on=index_cols, how=\"left\")\n",
    "    out[list(icd_dict.keys())] = out[list(icd_dict.keys())].fillna(False).astype(bool)\n",
    "\n",
    "    return out\n",
    "\n",
    "\n",
    "\n",
    "patients = reference_data[['episode_id']].drop_duplicates().reset_index(drop=True)\n",
    "\n",
    "cci_365_days_before = assign_group_icd(\n",
    "    index_cols=[\"episode_id\"],\n",
    "    icd_dict=icd_codes,\n",
    "    diagnosis_df=diagnosis_mapped_365_days,\n",
    "    patients_df=patients,\n",
    "    code_col=\"diagnosis_code\"\n",
    ")\n",
    "\n",
    "cci_365_days_before.columns = ['episode_id'] + ['c_' + col for col in cci_365_days_before.columns if col not in ['episode_id']]"
   ]
  },
  {
   "cell_type": "code",
   "execution_count": null,
   "id": "f5d12bcb",
   "metadata": {},
   "outputs": [],
   "source": [
    "if not os.path.exists(paths.STORE_DIAGNOSIS_DATA_PATH):\n",
    "    os.makedirs(paths.STORE_DIAGNOSIS_DATA_PATH)\n",
    "    os.makedirs(paths.STORE_DIAGNOSIS_DATA_PATH + \"/mapped/\")\n",
    "\n",
    "\n",
    "\n",
    "cci_365_days_before.to_parquet(paths.STORE_DIAGNOSIS_DATA_PATH + '/cci.parquet')\n"
   ]
  }
 ],
 "metadata": {
  "kernelspec": {
   "display_name": "bsi",
   "language": "python",
   "name": "python3"
  },
  "language_info": {
   "codemirror_mode": {
    "name": "ipython",
    "version": 3
   },
   "file_extension": ".py",
   "mimetype": "text/x-python",
   "name": "python",
   "nbconvert_exporter": "python",
   "pygments_lexer": "ipython3",
   "version": "3.12.2"
  }
 },
 "nbformat": 4,
 "nbformat_minor": 5
}

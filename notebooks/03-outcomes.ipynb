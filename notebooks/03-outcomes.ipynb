{
 "cells": [
  {
   "cell_type": "markdown",
   "metadata": {},
   "source": [
    "# Outcome Data Processing Pipeline"
   ]
  },
  {
   "cell_type": "code",
   "execution_count": null,
   "metadata": {},
   "outputs": [],
   "source": [
    "import pandas as pd\n",
    "import os\n",
    "import sys\n",
    "from config import Config as paths\n",
    "\n",
    "module_path = os.path.abspath(os.path.join('..'))\n",
    "if module_path not in sys.path:\n",
    "    sys.path.append(module_path)\n",
    "\n",
    "from data_cleaning.cleaners.episode.clean_data_outcomes import OutcomesCleaner"
   ]
  },
  {
   "cell_type": "markdown",
   "metadata": {},
   "source": [
    "## Read and Preprocess Data"
   ]
  },
  {
   "cell_type": "code",
   "execution_count": null,
   "metadata": {},
   "outputs": [],
   "source": [
    "microbiology_data = pd.read_parquet(paths.MICROBIOLOGY_DEDUB_PATH)"
   ]
  },
  {
   "cell_type": "code",
   "execution_count": null,
   "metadata": {},
   "outputs": [],
   "source": [
    "cleaner = OutcomesCleaner()\n",
    "deceased = pd.read_parquet(paths.MORTALITY_PATH)\n",
    "deceased = deceased.drop(columns=['AvlidenDatumSomStrang', 'Kon'])\n",
    "deceased = deceased.rename(columns={'RS_PAT_Alias': 'patient_id', 'Avliden': 'deceased', 'AvlidenDatum': 'deceased_date'}).sort_values(\n",
    "    'patient_id'\n",
    ").reset_index(drop=True)\n",
    "deceased = cleaner.clean_data(deceased)"
   ]
  },
  {
   "cell_type": "code",
   "execution_count": null,
   "metadata": {},
   "outputs": [],
   "source": [
    "reference = pd.read_parquet(paths.REFERENCE_DATA_PATH)\n",
    "reference['patient_id'] = reference['patient_id'].astype(int)"
   ]
  },
  {
   "cell_type": "code",
   "execution_count": null,
   "metadata": {},
   "outputs": [],
   "source": [
    "rsvd_sva = pd.read_parquet(paths.RSVD_SVA_HOSPITALISATION_PATH)\n",
    "rsvd_sva = rsvd_sva.rename(columns={'Mikrobiologi_Prov_Alias': 'sample_id', 'RS_PAT_Alias': 'patient_id', 'Indatum': 'in_date',\n",
    "                                    'Utdatum': 'out_date'})\n",
    "rsvd_sva_cleaned = cleaner.clean_data(rsvd_sva).sort_values(['patient_id', 'in_date', 'out_date']\n",
    "                                                                  )[['patient_id', 'in_date', 'out_date']].drop_duplicates(ignore_index=True)"
   ]
  },
  {
   "cell_type": "markdown",
   "metadata": {},
   "source": [
    "## Mortality"
   ]
  },
  {
   "cell_type": "code",
   "execution_count": null,
   "metadata": {},
   "outputs": [],
   "source": [
    "\n",
    "# 30-day mortality\n",
    "mortality_30_day = cleaner.add_mortality(reference, microbiology_data, deceased, pd.Timedelta(days=30), '30_day_mortality')\n",
    "# 90-day mortality\n",
    "mortality_90_day = cleaner.add_mortality(reference, microbiology_data, deceased, pd.Timedelta(days=90), '90_day_mortality')\n",
    "# 365-day mortality\n",
    "mortality_365_day = cleaner.add_mortality(reference, microbiology_data, deceased, pd.Timedelta(days=365), '365_day_mortality')\n",
    "# 3-year mortality\n",
    "mortality_3_year = cleaner.add_mortality(reference, microbiology_data, deceased, pd.Timedelta(days=365 * 3), '3_year_mortality')"
   ]
  },
  {
   "cell_type": "code",
   "execution_count": null,
   "metadata": {},
   "outputs": [],
   "source": [
    "mortality = mortality_30_day.merge(mortality_90_day, how='left').merge(mortality_365_day, how='left').merge(mortality_3_year, how='left'\n",
    "                                                                                                            ).dropna(subset='episode_id')"
   ]
  },
  {
   "cell_type": "markdown",
   "metadata": {},
   "source": [
    "## Readmitted"
   ]
  },
  {
   "cell_type": "code",
   "execution_count": null,
   "metadata": {},
   "outputs": [],
   "source": [
    "mortality_and_readmitted = cleaner.add_readmitted(mortality, rsvd_sva_cleaned, 'sample_date')"
   ]
  },
  {
   "cell_type": "markdown",
   "metadata": {},
   "source": [
    "## Days of Care a Year After First Hospitalisation"
   ]
  },
  {
   "cell_type": "code",
   "execution_count": null,
   "metadata": {},
   "outputs": [],
   "source": [
    "days_of_care = cleaner.get_days_of_care_after_baseline(rsvd_sva_cleaned, microbiology_data, 365)\n",
    "mortality_readmitted_days_of_care = mortality_and_readmitted.merge(days_of_care, how='left', on='episode_id')\n",
    "mortality_readmitted_days_of_care['days_of_care_365_days_after_baseline'] = mortality_readmitted_days_of_care[f'days_of_care_365_days_after_baseline'].fillna(0)"
   ]
  },
  {
   "cell_type": "markdown",
   "metadata": {},
   "source": [
    "## Days of Care a Year Before Sample Date"
   ]
  },
  {
   "cell_type": "code",
   "execution_count": null,
   "metadata": {},
   "outputs": [],
   "source": [
    "days_of_care_before_baseline = cleaner.get_days_of_care_before_baseline(rsvd_sva_cleaned, microbiology_data, 365)\n",
    "mortality_readmitted_days_of_care = mortality_readmitted_days_of_care.merge(days_of_care_before_baseline, how='left', on='episode_id')\n",
    "mortality_readmitted_days_of_care['days_of_care_365_days_before_baseline'] = mortality_readmitted_days_of_care['days_of_care_365_days_before_baseline'].fillna(0)"
   ]
  },
  {
   "cell_type": "markdown",
   "metadata": {},
   "source": [
    "## Deceased in Hospital"
   ]
  },
  {
   "cell_type": "code",
   "execution_count": null,
   "metadata": {},
   "outputs": [],
   "source": [
    "# Filter for inpatient care\n",
    "reference_sv = reference.query('hosp_type == \"Slutenvård\"')[\n",
    "    ['patient_id','sample_date', 'hosp_start', 'hosp_stop']\n",
    "    ].rename(columns={'hosp_start': 'in_date', 'hosp_stop': 'out_date'})\n",
    "\n",
    "reference_sv[['in_date', 'out_date']] = reference_sv[['in_date', 'out_date']].applymap(lambda x: x.date())\n",
    "\n",
    "reference_and_rsvd_sva = pd.concat([reference_sv, rsvd_sva_cleaned]).dropna(subset=['in_date', 'out_date'])\n",
    "\n",
    "reference_and_rsvd_sva = reference_and_rsvd_sva[reference_and_rsvd_sva.sample_date.between(reference_and_rsvd_sva.in_date, reference_and_rsvd_sva.out_date)]"
   ]
  },
  {
   "cell_type": "code",
   "execution_count": null,
   "metadata": {},
   "outputs": [],
   "source": [
    "# Check if deceased date is during a hospitalisation\n",
    "hosps_deceased = reference_and_rsvd_sva.merge(deceased, how='left', on='patient_id')\n",
    "hosps_deceased['deceased_in_hospital'] = hosps_deceased['deceased_date'].between(hosps_deceased['in_date'], hosps_deceased['out_date'])\n",
    "deceased_in_hospital = hosps_deceased.groupby('patient_id')['deceased_in_hospital'].any().reset_index()"
   ]
  },
  {
   "cell_type": "code",
   "execution_count": null,
   "metadata": {},
   "outputs": [],
   "source": [
    "outcome_data = cleaner.clean_data(mortality_readmitted_days_of_care.merge(deceased_in_hospital, how='left', on='patient_id'))"
   ]
  },
  {
   "cell_type": "code",
   "execution_count": null,
   "metadata": {},
   "outputs": [],
   "source": [
    "# We know that deceased in hopsital will only happen once for each patient and it is going to be the last episode\n",
    "last_episode_idx = outcome_data.groupby('patient_id')['episode_id'].idxmax()\n",
    "\n",
    "outcome_data['deceased_in_hospital_temp'] = False  # temp value\n",
    "# Update the last episode for each patient\n",
    "outcome_data.loc[last_episode_idx, 'deceased_in_hospital_temp'] = outcome_data.loc[last_episode_idx, 'deceased_in_hospital'].values\n",
    "outcome_data['deceased_in_hospital'] = outcome_data['deceased_in_hospital_temp']\n",
    "outcome_data = outcome_data.drop(columns=['deceased_in_hospital_temp'])\n"
   ]
  },
  {
   "cell_type": "code",
   "execution_count": null,
   "metadata": {},
   "outputs": [],
   "source": [
    "# Handles special cases\n",
    "outcome_data.loc[outcome_data['deceased'] == False, 'deceased_in_hospital'] = False\n",
    "outcome_data.loc[outcome_data['deceased'].isna() | (\n",
    "    (outcome_data['deceased'] == True) & outcome_data['deceased_date'].isna()), 'deceased_in_hospital'] = None\n",
    "outcome_data = outcome_data.drop(columns=['patient_id','sample_date']).drop_duplicates()"
   ]
  },
  {
   "cell_type": "markdown",
   "metadata": {},
   "source": [
    "## Save Processed Data"
   ]
  },
  {
   "cell_type": "code",
   "execution_count": null,
   "metadata": {},
   "outputs": [],
   "source": [
    "if not os.path.exists(paths.STORE_OUTCOME_DATA_PATH):\n",
    "    os.makedirs(paths.STORE_OUTCOME_DATA_PATH)\n",
    "\n",
    "outcome_data.to_parquet(paths.STORE_OUTCOME_DATA_PATH + '/outcome_data.parquet')"
   ]
  }
 ],
 "metadata": {
  "kernelspec": {
   "display_name": "bsi",
   "language": "python",
   "name": "python3"
  },
  "language_info": {
   "codemirror_mode": {
    "name": "ipython",
    "version": 3
   },
   "file_extension": ".py",
   "mimetype": "text/x-python",
   "name": "python",
   "nbconvert_exporter": "python",
   "pygments_lexer": "ipython3",
   "version": "3.12.2"
  }
 },
 "nbformat": 4,
 "nbformat_minor": 2
}

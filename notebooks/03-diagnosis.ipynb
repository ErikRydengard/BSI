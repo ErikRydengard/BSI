{
 "cells": [
  {
   "cell_type": "markdown",
   "id": "0252ee88",
   "metadata": {},
   "source": [
    "# Diagnosis Data Processing Pipeline"
   ]
  },
  {
   "cell_type": "code",
   "execution_count": null,
   "id": "d6edf0ae",
   "metadata": {},
   "outputs": [],
   "source": [
    "import sys\n",
    "from pathlib import Path\n",
    "from config import Config as paths\n",
    "import pandas as pd\n",
    "import sys\n",
    "import os\n",
    "\n",
    "project_root = Path(\"..\").resolve()\n",
    "sys.path.insert(0, str(project_root))\n",
    "\n",
    "from data_cleaning.renaming import (\n",
    "    generate_and_save_rename_columns_json,\n",
    "    rename_columns,\n",
    "    generate_and_save_rename_values_json,\n",
    "    rename_values,\n",
    ")\n",
    "from data_cleaning.utils import save_json, load_json\n",
    "from data_cleaning.cleaners.episode.episodeCleaner import EpisodeCleaner"
   ]
  },
  {
   "cell_type": "markdown",
   "id": "6ede09bd",
   "metadata": {},
   "source": [
    "## Read Data"
   ]
  },
  {
   "cell_type": "code",
   "execution_count": null,
   "id": "fed70d7e",
   "metadata": {},
   "outputs": [],
   "source": [
    "RSVD_OVA = pd.read_parquet(paths.RSVD_OVA_DIAGNOSIS_PATH)\n",
    "RSVD_SVA = pd.read_parquet(paths.RSVD_SVA_DIAGNOSIS_PATH)\n",
    "MELIOR_OVA = pd.read_parquet(paths.MELIOR_OVA_EPIKRIS_PATH)\n",
    "MELIOR_SVA = pd.read_parquet(paths.MELIOR_SVA_EPIKRIS_PATH)\n",
    "INFECTION_CODES = pd.read_excel(paths.INFECTION_CODES_PATH)['ICD-kod ID'].tolist()\n",
    "reference_data = pd.read_parquet(paths.REFERENCE_DATA_PATH)\n",
    "reference_data['patient_id'] = reference_data['patient_id'].astype(int)"
   ]
  },
  {
   "cell_type": "markdown",
   "id": "f6f5412d",
   "metadata": {},
   "source": [
    "## Generate Rename Columns Files"
   ]
  },
  {
   "cell_type": "code",
   "execution_count": null,
   "id": "69daba76",
   "metadata": {},
   "outputs": [],
   "source": [
    "generate_and_save_rename_columns_json(\n",
    "    RSVD_OVA, f\"{paths.RENAME_FILES_PATH_DIAGNOSIS}/RSVD/RSVD_OVA_rename_columns.json\"\n",
    ")\n",
    "generate_and_save_rename_columns_json(\n",
    "    RSVD_SVA, f\"{paths.RENAME_FILES_PATH_DIAGNOSIS}/RSVD/RSVD_SVA_rename_columns.json\"\n",
    ")\n",
    "\n",
    "generate_and_save_rename_columns_json(\n",
    "    MELIOR_OVA, f\"{paths.RENAME_FILES_PATH_DIAGNOSIS}/Melior/Melior_OVA_rename_columns.json\"\n",
    ")\n",
    "generate_and_save_rename_columns_json(\n",
    "    MELIOR_SVA, f\"{paths.RENAME_FILES_PATH_DIAGNOSIS}/Melior/Melior_SVA_rename_columns.json\"\n",
    ")"
   ]
  },
  {
   "cell_type": "markdown",
   "id": "30d28352",
   "metadata": {},
   "source": [
    "## Rename Columns"
   ]
  },
  {
   "cell_type": "code",
   "execution_count": null,
   "id": "e291f0b3",
   "metadata": {},
   "outputs": [],
   "source": [
    "RSVD_OVA_renamed = rename_columns(\n",
    "    RSVD_OVA, f\"{paths.RENAME_FILES_PATH_DIAGNOSIS}/RSVD/RSVD_OVA_rename_columns.json\"\n",
    ")\n",
    "RSVD_SVA_renamed = rename_columns(\n",
    "    RSVD_SVA, f\"{paths.RENAME_FILES_PATH_DIAGNOSIS}/RSVD/RSVD_SVA_rename_columns.json\"\n",
    ")\n",
    "\n",
    "MELIOR_OVA_renamed = rename_columns(\n",
    "    MELIOR_OVA, f\"{paths.RENAME_FILES_PATH_DIAGNOSIS}/Melior/Melior_OVA_rename_columns.json\"\n",
    ")\n",
    "MELIOR_SVA_renamed = rename_columns(\n",
    "    MELIOR_SVA, f\"{paths.RENAME_FILES_PATH_DIAGNOSIS}/Melior/Melior_SVA_rename_columns.json\"\n",
    ")"
   ]
  },
  {
   "cell_type": "markdown",
   "id": "6588d207",
   "metadata": {},
   "source": [
    "## Add Origin"
   ]
  },
  {
   "cell_type": "code",
   "execution_count": null,
   "id": "226c7ffa",
   "metadata": {},
   "outputs": [],
   "source": [
    "RSVD_OVA_renamed[\"origin\"] = \"RSVD OVA\"\n",
    "RSVD_SVA_renamed[\"origin\"] = \"RSVD SVA\"\n",
    "MELIOR_OVA_renamed[\"origin\"] = \"Melior OVA\"\n",
    "MELIOR_SVA_renamed[\"origin\"] = \"Melior SVA\""
   ]
  },
  {
   "cell_type": "markdown",
   "id": "54762238",
   "metadata": {},
   "source": [
    "## Concatenate Data"
   ]
  },
  {
   "cell_type": "code",
   "execution_count": null,
   "id": "a4745ecb",
   "metadata": {},
   "outputs": [],
   "source": [
    "diagnosis_cleaner = EpisodeCleaner()\n",
    "RSVD_combined = diagnosis_cleaner.concat_data(\n",
    "    df1=RSVD_OVA_renamed, df2=RSVD_SVA_renamed\n",
    ")\n",
    "MELIOR_combined = diagnosis_cleaner.concat_data(\n",
    "    df1=MELIOR_OVA_renamed, df2=MELIOR_SVA_renamed\n",
    ")"
   ]
  },
  {
   "cell_type": "markdown",
   "id": "c347e6c7",
   "metadata": {},
   "source": [
    "## Generate Rename Values Files"
   ]
  },
  {
   "cell_type": "code",
   "execution_count": null,
   "id": "c96a7bf5",
   "metadata": {},
   "outputs": [],
   "source": [
    "generate_and_save_rename_values_json(\n",
    "    df=RSVD_combined,\n",
    "    file_path=f\"{paths.RENAME_FILES_PATH_DIAGNOSIS}/RSVD/RSVD_combined_rename_values.json\",\n",
    "    limit=100,\n",
    ")\n",
    "generate_and_save_rename_values_json(\n",
    "    df=MELIOR_combined,\n",
    "    file_path=f\"{paths.RENAME_FILES_PATH_DIAGNOSIS}/Melior/MELIOR_combined_rename_values.json\",\n",
    "    limit=100,\n",
    ")"
   ]
  },
  {
   "cell_type": "markdown",
   "id": "f58e3b40",
   "metadata": {},
   "source": [
    "## Rename Values"
   ]
  },
  {
   "cell_type": "code",
   "execution_count": null,
   "id": "df68fd2e",
   "metadata": {},
   "outputs": [],
   "source": [
    "RSVD_combined_renamed_values = rename_values(\n",
    "    RSVD_combined, f\"{paths.RENAME_FILES_PATH_DIAGNOSIS}/RSVD/RSVD_combined_rename_values.json\"\n",
    ")\n",
    "MELIOR_combined_renamed_values = rename_values(\n",
    "    MELIOR_combined, f\"{paths.RENAME_FILES_PATH_DIAGNOSIS}/Melior/MELIOR_combined_rename_values.json\"\n",
    ")"
   ]
  },
  {
   "cell_type": "markdown",
   "id": "4720c494",
   "metadata": {},
   "source": [
    "## Clean Data"
   ]
  },
  {
   "cell_type": "code",
   "execution_count": null,
   "id": "1255f988",
   "metadata": {},
   "outputs": [],
   "source": [
    "RSVD_cleaned = diagnosis_cleaner.clean_data(RSVD_combined_renamed_values)\n",
    "RSVD_cleaned[\"hosp_id\"] = -1\n",
    "RSVD_cleaned['diagnosis_code'] = RSVD_cleaned['diagnosis_code'].str.replace('-', '', regex=False)\n",
    "\n",
    "MELIOR_cleaned = diagnosis_cleaner.clean_data(MELIOR_combined_renamed_values)\n",
    "MELIOR_cleaned['diagnosis_code'] = MELIOR_cleaned['diagnosis_code'].str.replace('-', '', regex=False)"
   ]
  },
  {
   "cell_type": "markdown",
   "id": "72cbdf31",
   "metadata": {},
   "source": [
    "## Add Patient ID to MELIOR Data"
   ]
  },
  {
   "cell_type": "code",
   "execution_count": null,
   "id": "771c1a61",
   "metadata": {},
   "outputs": [],
   "source": [
    "temp_ref= reference_data[reference_data.hosp_id.notnull()].copy()\n",
    "\n",
    "MELIOR_cleaned_with_patient_id = pd.merge(\n",
    "    temp_ref[[\"patient_id\", \"hosp_id\"]].drop_duplicates(),\n",
    "    MELIOR_cleaned,\n",
    "    on=\"hosp_id\",\n",
    "    how=\"left\",\n",
    ")"
   ]
  },
  {
   "cell_type": "markdown",
   "id": "e7d06917",
   "metadata": {},
   "source": [
    "## Combine RSVD and MELIOR Diagnosis Data"
   ]
  },
  {
   "cell_type": "code",
   "execution_count": null,
   "id": "9b551dd6",
   "metadata": {},
   "outputs": [],
   "source": [
    "diagnosis = diagnosis_cleaner.concat_data(MELIOR_cleaned_with_patient_id, RSVD_cleaned)"
   ]
  },
  {
   "cell_type": "code",
   "execution_count": null,
   "id": "38a4642b",
   "metadata": {},
   "outputs": [],
   "source": [
    "diagnosis = diagnosis[diagnosis.diagnosis_code.notnull()]"
   ]
  },
  {
   "cell_type": "markdown",
   "id": "9c8121ce",
   "metadata": {},
   "source": [
    "## Pivot Data"
   ]
  },
  {
   "cell_type": "code",
   "execution_count": null,
   "id": "00bd4ad9",
   "metadata": {},
   "outputs": [],
   "source": [
    "diagnosis_pivoted = diagnosis_cleaner.pivot_data(\n",
    "    df=diagnosis,\n",
    "    index_cols=[\"patient_id\", \"origin\", \"diagnosis_date\", \"hosp_id\"],\n",
    "    pivot_cols=\"diagnosis_type\",\n",
    "    value_col=\"diagnosis_code\",\n",
    ")"
   ]
  },
  {
   "cell_type": "code",
   "execution_count": null,
   "id": "5a8d845b",
   "metadata": {},
   "outputs": [],
   "source": [
    "# Välj vårdtillfällen med provtagning, plus marginal dagar för att inkludera fler ids\n",
    "reference_data_filtered = reference_data[reference_data.sample_date.between(reference_data.hosp_start - pd.Timedelta(days=3), reference_data.hosp_stop + pd.Timedelta(days=3))].copy()"
   ]
  },
  {
   "cell_type": "markdown",
   "id": "c7a80c3d",
   "metadata": {},
   "source": [
    "## Map Data to Episodes"
   ]
  },
  {
   "cell_type": "markdown",
   "id": "6f66c3ee",
   "metadata": {},
   "source": [
    "### Diagnoser som är satta inom 365 dagar från provtagning"
   ]
  },
  {
   "cell_type": "code",
   "execution_count": null,
   "id": "05c238b9",
   "metadata": {},
   "outputs": [],
   "source": [
    "\n",
    "\n",
    "DAYS_BEFORE_BASELINE = pd.Timedelta(365, unit=\"days\")\n",
    "DAYS_AFTER_BASELINE = -pd.Timedelta(1, unit=\"days\")\n",
    "\n",
    "diagnosis_mapped = diagnosis_cleaner.map_data_to_interval(\n",
    "    reference_df=reference_data[\n",
    "        [\"episode_id\", \"patient_id\", \"sample_date\"]\n",
    "    ].drop_duplicates(),\n",
    "    df=diagnosis_pivoted,\n",
    "    patient_id_col_name=\"patient_id\",\n",
    "    date_col_name=\"diagnosis_date\",\n",
    "    baseline_col_name=\"sample_date\",\n",
    "    time_before_baseline=DAYS_BEFORE_BASELINE,\n",
    "    time_after_baseline=DAYS_AFTER_BASELINE,\n",
    ")\n",
    "\n"
   ]
  },
  {
   "cell_type": "markdown",
   "id": "ecb26bf8",
   "metadata": {},
   "source": [
    "### diagnoser som är satta under det aktuella vårdtillfället"
   ]
  },
  {
   "cell_type": "code",
   "execution_count": null,
   "id": "c59947fa",
   "metadata": {},
   "outputs": [],
   "source": [
    "diagnosis_infection_mapped = reference_data_filtered[['episode_id', 'patient_id', 'hosp_id', 'sample_id', 'sample_date']].merge(\n",
    "    diagnosis_pivoted, how='left', on=['hosp_id', 'patient_id']).dropna(subset='hosp_id')\n",
    "\n",
    "# TODO: Behöver kolla mer på detta om infektioner\n",
    "diagnosis_infection_mapped = reference_data[['episode_id', 'patient_id']].drop_duplicates().merge(diagnosis_infection_mapped, how='left', on=['episode_id','patient_id'])"
   ]
  },
  {
   "cell_type": "markdown",
   "id": "3320675d",
   "metadata": {},
   "source": [
    "## Add indicators"
   ]
  },
  {
   "cell_type": "code",
   "execution_count": null,
   "id": "741bce08",
   "metadata": {},
   "outputs": [],
   "source": [
    "diagnosis_infection_mapped[\"infection_diagnosis\"] = (\n",
    "    diagnosis_cleaner.get_prefix_match_mask(\n",
    "        diagnosis_infection_mapped,\n",
    "        [\"main_diagnosis\", \"secondary_diagnosis\"],\n",
    "        INFECTION_CODES,\n",
    "    )\n",
    ")\n",
    "\n",
    "diagnosis_mapped[\"cancer_diagnosis\"] = diagnosis_cleaner.get_prefix_match_mask(\n",
    "    diagnosis_mapped, [\"main_diagnosis\", \"secondary_diagnosis\"], [\"C\"]\n",
    ")\n",
    "\n",
    "diagnosis_mapped[\"diabetes_diagnosis\"] = diagnosis_cleaner.get_prefix_match_mask(\n",
    "    diagnosis_mapped,\n",
    "    [\"main_diagnosis\", \"secondary_diagnosis\"],\n",
    "    [\"E10\", \"E11\", \"E12\", \"E13\", \"E14\"],\n",
    ")"
   ]
  },
  {
   "cell_type": "markdown",
   "id": "a97d50bb",
   "metadata": {},
   "source": [
    "## Create Summary"
   ]
  },
  {
   "cell_type": "code",
   "execution_count": null,
   "id": "0bc26041",
   "metadata": {},
   "outputs": [],
   "source": [
    "def summary_diagnosis_infection(df):\n",
    "    episode_id = df[\"episode_id\"].iloc[0]\n",
    "    infection = df[\"infection_diagnosis\"].max()\n",
    "    if infection:\n",
    "        df = df[df[\"infection_diagnosis\"]].copy()\n",
    "        infection_codes_main = list(set(df['main_diagnosis'].dropna().tolist()))\n",
    "        infection_codes_secondary = list(set(df['secondary_diagnosis'].dropna().tolist()))\n",
    "        \n",
    "        infection_codes_main = ' | '.join(infection_codes_main)\n",
    "        infection_codes_secondary = ' | '.join(infection_codes_secondary)\n",
    "    else:\n",
    "        infection_codes_main = None\n",
    "        infection_codes_secondary = None\n",
    "        infection = False\n",
    "\n",
    "    return {\n",
    "        \"episode_id\": episode_id,\n",
    "        \"infection_during_episode\": infection,\n",
    "        'infection_codes_main': infection_codes_main,\n",
    "        'infection_codes_secondary': infection_codes_secondary,\n",
    "    }\n",
    "\n",
    "\n",
    "diagnosis_infection_during_hosp_summary = diagnosis_cleaner.summarize_data_by_episode(\n",
    "    df=diagnosis_infection_mapped, episode_id_col=\"episode_id\", summary_function=summary_diagnosis_infection\n",
    ")"
   ]
  },
  {
   "cell_type": "code",
   "execution_count": null,
   "id": "ebaaaecf",
   "metadata": {},
   "outputs": [],
   "source": [
    "def summary_diagnosis(df):\n",
    "    episode_id = df[\"episode_id\"].iloc[0]\n",
    "\n",
    "    cancer = df[\"cancer_diagnosis\"].max()\n",
    "    diabetes = df[\"diabetes_diagnosis\"].max()\n",
    "\n",
    "    diagnosis_codes_main = list(set(df['main_diagnosis'].dropna().tolist()))\n",
    "    diagnosis_codes_secondary = list(set(df['secondary_diagnosis'].dropna().tolist()))\n",
    "    diagnosis_codes_main = ' | '.join(diagnosis_codes_main)\n",
    "    diagnosis_codes_secondary = ' | '.join(diagnosis_codes_secondary)\n",
    "\n",
    "    return {\n",
    "        \"episode_id\": episode_id,\n",
    "        \"cancer_within_365_days\": cancer,\n",
    "        \"diabetes_within_365_days\": diabetes,\n",
    "        \"diagnosis_codes_main_365_days_prior\": diagnosis_codes_main,\n",
    "        \"diagnosis_codes_secondary_365_days_prior\": diagnosis_codes_secondary,\n",
    "    }\n",
    "\n",
    "\n",
    "diagnosis_365_prior_summary = diagnosis_cleaner.summarize_data_by_episode(\n",
    "    df=diagnosis_mapped, episode_id_col=\"episode_id\", summary_function=summary_diagnosis\n",
    ")"
   ]
  },
  {
   "cell_type": "markdown",
   "id": "d06066ed",
   "metadata": {},
   "source": [
    "# Combine Summaries"
   ]
  },
  {
   "cell_type": "code",
   "execution_count": null,
   "id": "6ab0ade9",
   "metadata": {},
   "outputs": [],
   "source": [
    "diagnosis_combined = diagnosis_365_prior_summary.copy()\n",
    "diagnosis_combined = diagnosis_combined.merge(\n",
    "    diagnosis_infection_during_hosp_summary,\n",
    "    on=[\"episode_id\"],\n",
    "    how=\"left\"\n",
    ")"
   ]
  },
  {
   "cell_type": "markdown",
   "id": "d9c78f9a",
   "metadata": {},
   "source": [
    "## Save Data"
   ]
  },
  {
   "cell_type": "code",
   "execution_count": null,
   "id": "f5d12bcb",
   "metadata": {},
   "outputs": [],
   "source": [
    "if not os.path.exists(paths.STORE_DIAGNOSIS_DATA_PATH):\n",
    "    os.makedirs(paths.STORE_DIAGNOSIS_DATA_PATH)\n",
    "    os.makedirs(paths.STORE_DIAGNOSIS_DATA_PATH + \"/mapped/\")\n",
    "\n",
    "diagnosis_mapped.to_parquet(f\"{paths.STORE_DIAGNOSIS_DATA_PATH}/mapped/diagnosis_365_days_episode_mapped.parquet\")\n",
    "diagnosis_infection_mapped.to_parquet(f\"{paths.STORE_DIAGNOSIS_DATA_PATH}/mapped/diagnosis_30_days_episode_mapped.parquet\")\n",
    "\n",
    "diagnosis_combined.to_parquet(f\"{paths.STORE_DIAGNOSIS_DATA_PATH}/diagnosis_combined_summary.parquet\")\n"
   ]
  }
 ],
 "metadata": {
  "kernelspec": {
   "display_name": "bsi",
   "language": "python",
   "name": "python3"
  },
  "language_info": {
   "codemirror_mode": {
    "name": "ipython",
    "version": 3
   },
   "file_extension": ".py",
   "mimetype": "text/x-python",
   "name": "python",
   "nbconvert_exporter": "python",
   "pygments_lexer": "ipython3",
   "version": "3.12.2"
  }
 },
 "nbformat": 4,
 "nbformat_minor": 5
}

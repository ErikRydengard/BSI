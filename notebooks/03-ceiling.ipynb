{
 "cells": [
  {
   "cell_type": "markdown",
   "metadata": {},
   "source": [
    "# Ceiling Data Processing Pipeline\n"
   ]
  },
  {
   "cell_type": "code",
   "execution_count": null,
   "metadata": {},
   "outputs": [],
   "source": [
    "import pandas as pd\n",
    "import os\n",
    "import sys\n",
    "from config import Config as paths\n",
    "\n",
    "module_path = os.path.abspath(os.path.join(\"..\"))\n",
    "if module_path not in sys.path:\n",
    "    sys.path.append(module_path)\n",
    "\n",
    "from data_cleaning.cleaners.episode.clean_data_ceiling import CeilingCleaner\n",
    "from data_cleaning.renaming import rename_columns, generate_and_save_rename_columns_json"
   ]
  },
  {
   "cell_type": "markdown",
   "metadata": {},
   "source": [
    "## Load Data\n"
   ]
  },
  {
   "cell_type": "code",
   "execution_count": null,
   "metadata": {},
   "outputs": [],
   "source": [
    "data_multi_outpatient = pd.read_parquet(paths.MELIOR_OV_MULTI)\n",
    "data_multi_inpatient = pd.read_parquet(paths.MELIOR_SV_MULTI)"
   ]
  },
  {
   "cell_type": "markdown",
   "metadata": {},
   "source": [
    "## Generate Rename Columns File\n"
   ]
  },
  {
   "cell_type": "code",
   "execution_count": null,
   "metadata": {},
   "outputs": [],
   "source": [
    "generate_and_save_rename_columns_json(\n",
    "    data_multi_inpatient,\n",
    "    f\"{paths.RENAME_FILES_PATH_CEILING}/ceiling_inpatient_rename_columns.json\",\n",
    ")\n",
    "\n",
    "generate_and_save_rename_columns_json(\n",
    "    data_multi_outpatient,\n",
    "    f\"{paths.RENAME_FILES_PATH_CEILING}/ceiling_outpatient_rename_columns.json\",\n",
    ")\n"
   ]
  },
  {
   "cell_type": "markdown",
   "metadata": {},
   "source": [
    "## Rename Columns\n"
   ]
  },
  {
   "cell_type": "code",
   "execution_count": null,
   "metadata": {},
   "outputs": [],
   "source": [
    "data_multi_inpatient_renamed = rename_columns(\n",
    "    data_multi_inpatient,\n",
    "    f\"{paths.RENAME_FILES_PATH_CEILING}/ceiling_inpatient_rename_columns.json\",\n",
    ")\n",
    "\n",
    "data_multi_outpatient_renamed = rename_columns(\n",
    "    data_multi_outpatient,\n",
    "    f\"{paths.RENAME_FILES_PATH_CEILING}/ceiling_outpatient_rename_columns.json\",\n",
    ")"
   ]
  },
  {
   "cell_type": "markdown",
   "metadata": {},
   "source": [
    "## Concat Inpatient and Outpatient Data"
   ]
  },
  {
   "cell_type": "code",
   "execution_count": null,
   "metadata": {},
   "outputs": [],
   "source": [
    "ceiling_data = pd.concat(\n",
    "    [data_multi_inpatient_renamed, data_multi_outpatient_renamed], ignore_index=True\n",
    ").reset_index(drop=True)"
   ]
  },
  {
   "cell_type": "markdown",
   "metadata": {},
   "source": [
    "## Add Episode IDs to Ceiling Data\n"
   ]
  },
  {
   "cell_type": "code",
   "execution_count": null,
   "metadata": {},
   "outputs": [],
   "source": [
    "reference_data = pd.read_parquet(paths.REFERENCE_DATA_PATH)"
   ]
  },
  {
   "cell_type": "code",
   "execution_count": null,
   "metadata": {},
   "outputs": [],
   "source": [
    "ceiling_data_with_episodes = ceiling_data.merge(\n",
    "    reference_data[[\"patient_id\",\"hosp_id\", \"sample_date\", \"episode_id\"]].drop_duplicates(),\n",
    "    on=\"hosp_id\",\n",
    "    how=\"right\",\n",
    ")\n"
   ]
  },
  {
   "cell_type": "code",
   "execution_count": null,
   "metadata": {},
   "outputs": [],
   "source": [
    "def set_ceiling_level(df, ceiling_col='ceiling_level'):\n",
    "    df = df.copy()\n",
    "\n",
    "    mask_intensive = df[ceiling_col].str.lower().str.contains(\"ntensivvård\", na=False)\n",
    "    df.loc[mask_intensive, \"ceiling_decision\"] = 2\n",
    "\n",
    "    mask_hlr = df[ceiling_col].str.lower().str.contains(\"hlr\", na=False)\n",
    "    df.loc[mask_hlr, \"ceiling_decision\"] = 1\n",
    "\n",
    "    mask_palliative = df[ceiling_col].str.lower().str.contains(\"palliativ\", na=False)\n",
    "    df.loc[mask_palliative, \"ceiling_decision\"] = 3\n",
    "\n",
    "\n",
    "    return df\n",
    "\n",
    "\n"
   ]
  },
  {
   "cell_type": "code",
   "execution_count": null,
   "metadata": {},
   "outputs": [],
   "source": [
    "ceiling_data_with_decision = set_ceiling_level(ceiling_data_with_episodes).copy()\n",
    "\n",
    "ceiling_data_with_decision = ceiling_data_with_decision[ceiling_data_with_decision['ceiling_date'].notna()]\n",
    "ceiling_data_with_decision['ceiling_date'] = pd.to_datetime(ceiling_data_with_decision['ceiling_date']).dt.tz_localize(None)\n",
    "ceiling_data_with_decision = ceiling_data_with_decision[ceiling_data_with_decision['ceiling_date'] < ceiling_data_with_decision['sample_date']]\n",
    "\n",
    "# sätt text\n",
    "ceiling_data_with_decision.loc[ceiling_data_with_decision.ceiling_decision == 1, 'ceiling_decision_text'] = 'No CPR'\n",
    "ceiling_data_with_decision.loc[ceiling_data_with_decision.ceiling_decision == 2, 'ceiling_decision_text'] = 'No CPR or ICU'\n",
    "ceiling_data_with_decision.loc[ceiling_data_with_decision.ceiling_decision == 3, 'ceiling_decision_text'] = 'Palliative'\n",
    "\n",
    "# välj värsta beslutet per episode\n",
    "ceiling_data_with_decision = ceiling_data_with_decision.sort_values(\n",
    "    [\"episode_id\", \"ceiling_decision\"]).drop_duplicates(subset=['episode_id'], keep='first')\n"
   ]
  },
  {
   "cell_type": "markdown",
   "metadata": {},
   "source": [
    "## Summarize Episodes\n"
   ]
  },
  {
   "cell_type": "code",
   "execution_count": null,
   "metadata": {},
   "outputs": [],
   "source": [
    "ceiling_data_summary = ceiling_data_with_decision[[\"episode_id\", \"ceiling_date\", \"ceiling_decision_text\"]]"
   ]
  },
  {
   "cell_type": "markdown",
   "metadata": {},
   "source": [
    "## Save Processed Data\n"
   ]
  },
  {
   "cell_type": "code",
   "execution_count": null,
   "metadata": {},
   "outputs": [],
   "source": [
    "if not os.path.exists(paths.STORE_CEILING_DATA_PATH):\n",
    "    os.makedirs(paths.STORE_CEILING_DATA_PATH)\n",
    "\n",
    "ceiling_data_summary.to_parquet(\n",
    "    f\"{paths.STORE_CEILING_DATA_PATH}/ceiling_data_summary.parquet\"\n",
    ")"
   ]
  }
 ],
 "metadata": {
  "kernelspec": {
   "display_name": "bsi",
   "language": "python",
   "name": "python3"
  },
  "language_info": {
   "codemirror_mode": {
    "name": "ipython",
    "version": 3
   },
   "file_extension": ".py",
   "mimetype": "text/x-python",
   "name": "python",
   "nbconvert_exporter": "python",
   "pygments_lexer": "ipython3",
   "version": "3.12.2"
  }
 },
 "nbformat": 4,
 "nbformat_minor": 2
}

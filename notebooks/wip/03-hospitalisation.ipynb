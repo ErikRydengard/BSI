{
 "cells": [
  {
   "cell_type": "markdown",
   "id": "0252ee88",
   "metadata": {},
   "source": [
    "# Hospitalisation Data Processing Pipeline"
   ]
  },
  {
   "cell_type": "code",
   "execution_count": null,
   "id": "d6edf0ae",
   "metadata": {},
   "outputs": [],
   "source": [
    "import sys\n",
    "from pathlib import Path\n",
    "import pandas as pd\n",
    "import sys\n",
    "import os\n",
    "from config import Config as paths\n",
    "project_root = Path(\"..\").resolve()\n",
    "sys.path.insert(0, str(project_root))\n",
    "\n",
    "from data_cleaning.renaming import (\n",
    "    generate_and_save_rename_columns_json,\n",
    "    rename_columns,\n",
    "    generate_and_save_rename_values_json,\n",
    "    rename_values,\n",
    ")\n",
    "from data_cleaning.cleaners.episode.episodeCleaner import EpisodeCleaner\n",
    "\n",
    "cleaner = EpisodeCleaner()"
   ]
  },
  {
   "cell_type": "markdown",
   "id": "6ede09bd",
   "metadata": {},
   "source": [
    "## Load Data"
   ]
  },
  {
   "cell_type": "code",
   "execution_count": null,
   "id": "e3b2b0a9",
   "metadata": {},
   "outputs": [],
   "source": [
    "melior_sva = pd.read_parquet(paths.MELIOR_SV_PATH)\n",
    "reference_data = pd.read_parquet(paths.REFERENCE_DATA_PATH)"
   ]
  },
  {
   "cell_type": "markdown",
   "id": "b9ad245f",
   "metadata": {},
   "source": [
    "## Rename columns"
   ]
  },
  {
   "cell_type": "code",
   "execution_count": null,
   "id": "2d9ea075",
   "metadata": {},
   "outputs": [],
   "source": [
    "melior_sva_renamed = rename_columns(\n",
    "    df = melior_sva, path = '../rename_files/hospitalisation/melior_sv_rename_columns.json'\n",
    ").drop_duplicates()\n",
    "\n",
    "melior_sva_renamed['hosp_start'] = melior_sva_renamed['hosp_start'].dt.tz_localize(None)\n",
    "melior_sva_renamed['hosp_stop'] = melior_sva_renamed['hosp_stop'].dt.tz_localize(None)"
   ]
  },
  {
   "cell_type": "code",
   "execution_count": null,
   "id": "e0a252ee",
   "metadata": {},
   "outputs": [],
   "source": [
    "melior_sva_without_ER = melior_sva_renamed[~melior_sva_renamed.hosp_site.str.contains('Aku|aku')].copy()"
   ]
  },
  {
   "cell_type": "markdown",
   "id": "92adb129",
   "metadata": {},
   "source": [
    "## Combine hospitalisations if overlapping"
   ]
  },
  {
   "cell_type": "code",
   "execution_count": null,
   "id": "48be7dd0",
   "metadata": {},
   "outputs": [],
   "source": [
    "melior_sva_combined = cleaner.assign_block_id(melior_sva_renamed, 'patient_id', 'hosp_start', 'hosp_stop', time=0)\n",
    "\n",
    "melior_sva_combined = melior_sva_combined.groupby(['patient_id', 'block_id']).agg({\n",
    "    'hosp_id': 'first',\n",
    "    'hosp_start': 'min',\n",
    "    'hosp_stop': 'max',\n",
    "    'hosp_site': lambda x: ' | '.join(x.dropna().unique()),\n",
    "}).reset_index(drop=True)\n",
    "\n",
    "\n",
    "melior_sva_without_ER_combined = cleaner.assign_block_id(melior_sva_without_ER, 'patient_id', 'hosp_start', 'hosp_stop', time=0)\n",
    "\n",
    "melior_sva_without_ER_combined = melior_sva_without_ER_combined.groupby(['patient_id', 'block_id']).agg({\n",
    "    'hosp_id': 'first',\n",
    "    'hosp_start': 'min',\n",
    "    'hosp_stop': 'max',\n",
    "    'hosp_site': lambda x: ' | '.join(x.dropna().unique()),\n",
    "}).reset_index(drop=True)\n",
    "\n",
    "\n",
    "\n",
    "\n"
   ]
  },
  {
   "cell_type": "markdown",
   "id": "d7000c90",
   "metadata": {},
   "source": [
    "## Find hospitalisation with culture"
   ]
  },
  {
   "cell_type": "code",
   "execution_count": null,
   "id": "d682d59f",
   "metadata": {},
   "outputs": [],
   "source": [
    "hosp_with_episode = melior_sva_combined.merge(\n",
    "    reference_data[['episode_id','sample_date','hosp_id']].drop_duplicates(),\n",
    "    on='hosp_id',\n",
    "    how='right'\n",
    ")\n",
    "\n",
    "hosp_without_ER_with_episodes = melior_sva_without_ER_combined.merge(\n",
    "        reference_data[['episode_id','sample_date','hosp_id']].drop_duplicates(),\n",
    "    on='hosp_id',\n",
    "    how='right'\n",
    "\n",
    ")\n"
   ]
  },
  {
   "cell_type": "markdown",
   "id": "9256b324",
   "metadata": {},
   "source": [
    "### Sample date taken within +- 3 days from a hospitalisation"
   ]
  },
  {
   "cell_type": "code",
   "execution_count": null,
   "id": "3104e122",
   "metadata": {},
   "outputs": [],
   "source": [
    "hosp_with_episode_with_culture = hosp_with_episode[hosp_with_episode.sample_date.between(hosp_with_episode.hosp_start - pd.Timedelta(days=3), hosp_with_episode.hosp_stop + pd.Timedelta(days=3))].copy()\n",
    "hosp_with_episode_with_culture = hosp_with_episode_with_culture.sort_values(['episode_id', 'hosp_stop'],ascending=[True,False]).drop_duplicates('episode_id')\n",
    "hosp_with_episode_with_culture = hosp_with_episode_with_culture.rename({\n",
    "    'hosp_start': 'hosp_start_with_culture',\n",
    "    'hosp_stop': 'hosp_stop_with_culture',\n",
    "    'hosp_site': 'hosp_site_with_culture'\n",
    "}, axis=1)\n",
    "hosp_with_episode_with_culture = hosp_with_episode_with_culture[['episode_id', 'hosp_start_with_culture', 'hosp_stop_with_culture', 'hosp_site_with_culture']].drop_duplicates()\n",
    "\n",
    "hosp_without_ER_with_culture = hosp_without_ER_with_episodes[hosp_without_ER_with_episodes.sample_date.between(hosp_without_ER_with_episodes.hosp_start - pd.Timedelta(days=3), hosp_without_ER_with_episodes.hosp_stop + pd.Timedelta(days=3))].copy()\n",
    "hosp_without_ER_with_culture = hosp_without_ER_with_culture.sort_values(['episode_id', 'hosp_stop'],ascending=[True,False]).drop_duplicates('episode_id')\n",
    "hosp_without_ER_with_culture = hosp_without_ER_with_culture.rename(columns={\n",
    "    'hosp_start': 'hosp_start_with_culture',\n",
    "    'hosp_stop': 'hosp_stop_with_culture',\n",
    "    'hosp_site': 'hosp_site_with_culture'\n",
    "}, axis=1)\n",
    "hosp_without_ER_with_culture = hosp_without_ER_with_culture[['episode_id', 'hosp_start_with_culture', 'hosp_stop_with_culture', 'hosp_site_with_culture']].drop_duplicates()"
   ]
  },
  {
   "cell_type": "markdown",
   "id": "c07860a4",
   "metadata": {},
   "source": [
    "## Calculate hospitalisation times"
   ]
  },
  {
   "cell_type": "code",
   "execution_count": null,
   "id": "e9caadc8",
   "metadata": {},
   "outputs": [],
   "source": [
    "hosp_times_30 = cleaner.calculate_hospitalisation_times(hosp_without_ER_with_episodes, ['episode_id'], 'sample_date', 'hosp_start', 'hosp_stop', 30)\n",
    "hosp_times_365 = cleaner.calculate_hospitalisation_times(hosp_without_ER_with_episodes, ['episode_id'], 'sample_date', 'hosp_start', 'hosp_stop', 365)"
   ]
  },
  {
   "cell_type": "code",
   "execution_count": null,
   "id": "bbd8ec40",
   "metadata": {},
   "outputs": [],
   "source": [
    "hosp_times = hosp_times_30.merge(hosp_times_365, on='episode_id', how='outer')\n",
    "hosp_times = reference_data[['episode_id']].drop_duplicates().merge(hosp_times, on='episode_id', how='left').fillna(0)"
   ]
  },
  {
   "cell_type": "markdown",
   "id": "252f1406",
   "metadata": {},
   "source": [
    "## Next hospitalisation"
   ]
  },
  {
   "cell_type": "code",
   "execution_count": null,
   "id": "4d9d2a17",
   "metadata": {},
   "outputs": [],
   "source": [
    "# behåller enbart vårdtillfällen som händer efter provtagningsdatum\n",
    "next_hosp = hosp_without_ER_with_episodes[hosp_without_ER_with_episodes['hosp_start'] > hosp_without_ER_with_episodes['sample_date']].copy()\n",
    "\n",
    "# antalet dagar till nästa vårdtillfälle\n",
    "next_hosp['days_to_readmission'] = (next_hosp['hosp_start'] - next_hosp['sample_date']).dt.days\n",
    "\n",
    "# välj första vårdtillfället\n",
    "next_hosp = next_hosp.sort_values(['episode_id', 'hosp_start'])\n",
    "next_readmission = next_hosp.groupby('episode_id').first().reset_index()\n",
    "\n",
    "next_readmission = next_readmission[['episode_id', 'hosp_start', 'hosp_stop', 'hosp_site', 'days_to_readmission']].rename(columns={\n",
    "    'hosp_start': 'readmission_start',\n",
    "    'hosp_stop': 'readmission_stop',\n",
    "    'hosp_site': 'readmission_site'\n",
    "})\n",
    "\n",
    "next_readmission"
   ]
  },
  {
   "cell_type": "markdown",
   "id": "1466b7d7",
   "metadata": {},
   "source": [
    "## Combine"
   ]
  },
  {
   "cell_type": "code",
   "execution_count": null,
   "id": "61154966",
   "metadata": {},
   "outputs": [],
   "source": [
    "hosp_combined = hosp_without_ER_with_culture.copy()\n",
    "hosp_combined = pd.merge(hosp_times,hosp_combined,on='episode_id',how='outer')\n",
    "hosp_combined = pd.merge(hosp_combined,next_readmission,on='episode_id',how='outer')\n",
    "hosp_combined"
   ]
  },
  {
   "cell_type": "markdown",
   "id": "5ab36627",
   "metadata": {},
   "source": [
    "## Save"
   ]
  },
  {
   "cell_type": "code",
   "execution_count": null,
   "id": "4fe06517",
   "metadata": {},
   "outputs": [],
   "source": [
    "if not os.path.exists(paths.STORE_PATH + \"/hospitalisation\"):\n",
    "    os.makedirs(paths.STORE_PATH + \"/hospitalisation\")\n",
    "sva_cleaned.to_parquet(f\"{paths.STORE_PATH}/hospitalisation/hosp_sva_cleaned.parquet\")"
   ]
  }
 ],
 "metadata": {
  "kernelspec": {
   "display_name": "bsi",
   "language": "python",
   "name": "python3"
  },
  "language_info": {
   "codemirror_mode": {
    "name": "ipython",
    "version": 3
   },
   "file_extension": ".py",
   "mimetype": "text/x-python",
   "name": "python",
   "nbconvert_exporter": "python",
   "pygments_lexer": "ipython3",
   "version": "3.12.2"
  }
 },
 "nbformat": 4,
 "nbformat_minor": 5
}

{
 "cells": [
  {
   "cell_type": "code",
   "execution_count": null,
   "metadata": {},
   "outputs": [],
   "source": [
    "import sys\n",
    "from pathlib import Path\n",
    "from config import Config as paths\n",
    "import pandas as pd\n",
    "import sys\n",
    "import os\n",
    "\n",
    "project_root = Path(\"..\").resolve()\n",
    "sys.path.insert(0, str(project_root))\n",
    "\n",
    "from data_cleaning.cleaners.episode.episodeCleaner import EpisodeCleaner\n",
    "\n",
    "cleaner = EpisodeCleaner()"
   ]
  },
  {
   "cell_type": "markdown",
   "metadata": {},
   "source": [
    "## Import Data\n"
   ]
  },
  {
   "cell_type": "code",
   "execution_count": null,
   "metadata": {},
   "outputs": [],
   "source": [
    "medicine_data = pd.read_parquet(paths.MEDICINE_PRESCRIPTION)\n",
    "reference_data = pd.read_parquet(paths.REFERENCE_DATA_PATH)"
   ]
  },
  {
   "cell_type": "markdown",
   "metadata": {},
   "source": [
    "## Generate Renaming Files\n"
   ]
  },
  {
   "cell_type": "code",
   "execution_count": null,
   "metadata": {},
   "outputs": [],
   "source": [
    "from data_cleaning.renaming import generate_and_save_rename_columns_json\n",
    "\n",
    "\n",
    "generate_and_save_rename_columns_json(\n",
    "    df=medicine_data, file_path=f\"{paths.RENAME_FILES_MEDICINE}/medicine_rename_columns.json\"\n",
    ")"
   ]
  },
  {
   "cell_type": "markdown",
   "metadata": {},
   "source": [
    "## Rename Columns\n"
   ]
  },
  {
   "cell_type": "code",
   "execution_count": null,
   "metadata": {},
   "outputs": [],
   "source": [
    "from data_cleaning.renaming import rename_columns\n",
    "\n",
    "\n",
    "medicine_renamed = rename_columns(\n",
    "    medicine_data, f\"{paths.RENAME_FILES_MEDICINE}/medicine_rename_columns.json\"\n",
    ")"
   ]
  },
  {
   "cell_type": "code",
   "execution_count": null,
   "metadata": {},
   "outputs": [],
   "source": [
    "medicine_renamed['patient_id'] = medicine_renamed['patient_id'].astype(int)"
   ]
  },
  {
   "cell_type": "markdown",
   "metadata": {},
   "source": [
    "## Clean Data\n"
   ]
  },
  {
   "cell_type": "code",
   "execution_count": null,
   "metadata": {},
   "outputs": [],
   "source": [
    "medicine_cleaned = cleaner.clean_data(medicine_renamed)"
   ]
  },
  {
   "cell_type": "markdown",
   "metadata": {},
   "source": [
    "## Map Data to Episodes\n"
   ]
  },
  {
   "cell_type": "code",
   "execution_count": null,
   "metadata": {},
   "outputs": [],
   "source": [
    "DAYS_BEFORE_BASELINE = pd.Timedelta(30, unit=\"days\")\n",
    "DAYS_AFTER_BASELINE = -pd.Timedelta(1, unit=\"seconds\")\n",
    "\n",
    "medicine_mapped = cleaner.map_data_to_interval(\n",
    "    reference_df=reference_data[\n",
    "        [\"episode_id\", \"patient_id\", \"sample_date\"]\n",
    "    ].drop_duplicates(),\n",
    "    df=medicine_cleaned,\n",
    "    patient_id_col_name=\"patient_id\",\n",
    "    date_col_name=\"medicine_date\",\n",
    "    baseline_col_name=\"sample_date\",\n",
    "    time_before_baseline=DAYS_BEFORE_BASELINE,\n",
    "    time_after_baseline=DAYS_AFTER_BASELINE,\n",
    ")"
   ]
  },
  {
   "cell_type": "markdown",
   "metadata": {},
   "source": [
    "## Deduplicate medicine\n"
   ]
  },
  {
   "cell_type": "code",
   "execution_count": null,
   "metadata": {},
   "outputs": [],
   "source": [
    "medicine_mapped = medicine_mapped.sort_values(\n",
    "    \"diff\"\n",
    ").drop_duplicates(subset=[\"episode_id\", \"atc_code\"])"
   ]
  },
  {
   "cell_type": "markdown",
   "metadata": {},
   "source": [
    "## Add Indicators\n"
   ]
  },
  {
   "cell_type": "code",
   "execution_count": null,
   "metadata": {},
   "outputs": [],
   "source": [
    "medicine_mapped[\"immunpsupp\"] = cleaner.get_prefix_match_mask(\n",
    "    df=medicine_mapped,\n",
    "    target_cols=[\"atc_code\"],\n",
    "    prefixes=[\"A02BC\"],\n",
    ").astype(int)\n",
    "\n",
    "medicine_mapped[\"antibiotics\"] = cleaner.get_prefix_match_mask(\n",
    "    df=medicine_mapped,\n",
    "    target_cols=[\"atc_code\"],\n",
    "    prefixes=[\"J01\"],\n",
    ").astype(int)"
   ]
  },
  {
   "cell_type": "markdown",
   "metadata": {},
   "source": [
    "## Summarize Episodes\n"
   ]
  },
  {
   "cell_type": "code",
   "execution_count": null,
   "metadata": {},
   "outputs": [],
   "source": [
    "def summary(df):\n",
    "    episode_id = df[\"episode_id\"].iloc[0]\n",
    "    antibiotic = df[\"antibiotics\"].max()\n",
    "    immunsupp = df[\"immunpsupp\"].max()\n",
    "    return {\n",
    "        \"episode_id\": episode_id,\n",
    "        \"antibiotics_30_days_before\": antibiotic,\n",
    "        \"immunsupp_medicine_30_days_before\": immunsupp,\n",
    "    }\n",
    "\n",
    "\n",
    "medicine_summary = cleaner.summarize_data_by_episode(\n",
    "    df=medicine_mapped, episode_id_col=\"episode_id\", summary_function=summary\n",
    ")"
   ]
  },
  {
   "cell_type": "markdown",
   "metadata": {},
   "source": [
    "## Save Processed Data\n"
   ]
  },
  {
   "cell_type": "code",
   "execution_count": null,
   "metadata": {},
   "outputs": [],
   "source": [
    "if not os.path.exists(paths.STORE_MEDICINE_DATA_PATH):\n",
    "    os.makedirs(paths.STORE_MEDICINE_DATA_PATH)\n",
    "\n",
    "medicine_mapped.to_parquet(f\"{paths.STORE_MEDICINE_DATA_PATH}/medicine_episode_mapped.parquet\")\n",
    "medicine_summary.to_parquet(f\"{paths.STORE_MEDICINE_DATA_PATH}/medicine_episode_summary.parquet\")"
   ]
  }
 ],
 "metadata": {
  "kernelspec": {
   "display_name": "bsi",
   "language": "python",
   "name": "python3"
  },
  "language_info": {
   "codemirror_mode": {
    "name": "ipython",
    "version": 3
   },
   "file_extension": ".py",
   "mimetype": "text/x-python",
   "name": "python",
   "nbconvert_exporter": "python",
   "pygments_lexer": "ipython3",
   "version": "3.12.2"
  }
 },
 "nbformat": 4,
 "nbformat_minor": 2
}

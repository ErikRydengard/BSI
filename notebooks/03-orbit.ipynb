{
 "cells": [
  {
   "cell_type": "markdown",
   "metadata": {},
   "source": [
    "# Orbit Data Processing Pipeline"
   ]
  },
  {
   "cell_type": "code",
   "execution_count": null,
   "id": "665fc072",
   "metadata": {},
   "outputs": [],
   "source": [
    "import sys\n",
    "from pathlib import Path\n",
    "from config import Config as paths\n",
    "import pandas as pd\n",
    "import os\n",
    "\n",
    "project_root = Path(\"..\").resolve()\n",
    "sys.path.insert(0, str(project_root))\n",
    "\n",
    "from data_cleaning.renaming import generate_and_save_rename_columns_json, rename_columns\n",
    "from data_cleaning.cleaners.episode.clean_data_Orbit import OrbitCleaner"
   ]
  },
  {
   "cell_type": "markdown",
   "id": "787c92c9",
   "metadata": {},
   "source": [
    "## Load Data"
   ]
  },
  {
   "cell_type": "code",
   "execution_count": null,
   "id": "d5184c24",
   "metadata": {},
   "outputs": [],
   "source": [
    "orbit4_surgery = pd.read_parquet(paths.ORBIT4_PATH)\n",
    "orbit5_surgery = pd.read_parquet(paths.ORBIT5_PATH)\n",
    "orbit4_foreign_object_surgery = pd.read_parquet(paths.ORBIT4_FOREIGN_OBJECT_PATH)\n",
    "orbit5_foreign_object_surgery = pd.read_parquet(paths.ORBIT5_FOREIGN_OBJECT_PATH)"
   ]
  },
  {
   "cell_type": "markdown",
   "id": "92df3e01",
   "metadata": {},
   "source": [
    "## Generate Renaming Files"
   ]
  },
  {
   "cell_type": "code",
   "execution_count": null,
   "id": "05b0e8ce",
   "metadata": {},
   "outputs": [],
   "source": [
    "generate_and_save_rename_columns_json(orbit4_surgery, f\"{paths.RENAME_FILES_ORBIT}/orbit4/orbit4_surgery_rename_columns.json\")\n",
    "generate_and_save_rename_columns_json(orbit5_surgery, f\"{paths.RENAME_FILES_ORBIT}/orbit5/orbit5_surgery_rename_columns.json\")\n",
    "generate_and_save_rename_columns_json(orbit4_foreign_object_surgery, f\"{paths.RENAME_FILES_ORBIT}/orbit4/orbit4_foreign_object_surgery_rename_columns.json\")\n",
    "generate_and_save_rename_columns_json(orbit5_foreign_object_surgery, f\"{paths.RENAME_FILES_ORBIT}/orbit5/orbit5_foreign_object_surgery_rename_columns.json\")\n"
   ]
  },
  {
   "cell_type": "markdown",
   "id": "78ad4fd5",
   "metadata": {},
   "source": [
    "## Rename Columns"
   ]
  },
  {
   "cell_type": "code",
   "execution_count": null,
   "id": "4c1496a5",
   "metadata": {},
   "outputs": [],
   "source": [
    "orbit4_surgery_renamed = rename_columns(\n",
    "    orbit4_surgery,\n",
    "    f\"{paths.RENAME_FILES_ORBIT}/orbit4/orbit4_surgery_rename_columns.json\",\n",
    ")\n",
    "orbit5_surgery_renamed = rename_columns(\n",
    "    orbit5_surgery,\n",
    "    f\"{paths.RENAME_FILES_ORBIT}/orbit5/orbit5_surgery_rename_columns.json\",\n",
    ")\n",
    "orbit4_foreign_object_surgery_renamed = rename_columns(\n",
    "    orbit4_foreign_object_surgery,\n",
    "    f\"{paths.RENAME_FILES_ORBIT}/orbit4/orbit4_foreign_object_surgery_rename_columns.json\",\n",
    ")\n",
    "orbit5_foreign_object_surgery_renamed = rename_columns(\n",
    "    orbit5_foreign_object_surgery,\n",
    "    f\"{paths.RENAME_FILES_ORBIT}/orbit5/orbit5_foreign_object_surgery_rename_columns.json\",\n",
    ")"
   ]
  },
  {
   "cell_type": "markdown",
   "id": "9bfb8ebd",
   "metadata": {},
   "source": [
    "## Add Origin"
   ]
  },
  {
   "cell_type": "code",
   "execution_count": null,
   "id": "cc56f006",
   "metadata": {},
   "outputs": [],
   "source": [
    "orbit4_surgery_renamed['origin'] = 'orbit4'\n",
    "orbit5_surgery_renamed['origin'] = 'orbit5'\n",
    "orbit4_foreign_object_surgery_renamed['origin'] = 'orbit4 foreign object'\n",
    "orbit5_foreign_object_surgery_renamed['origin'] = 'orbit5 foreign object'"
   ]
  },
  {
   "cell_type": "markdown",
   "id": "46210a83",
   "metadata": {},
   "source": [
    "## Combine Data"
   ]
  },
  {
   "cell_type": "code",
   "execution_count": null,
   "id": "8b40ad5c",
   "metadata": {},
   "outputs": [],
   "source": [
    "orbit_cleaner = OrbitCleaner()\n",
    "orbit_surgery_combined = orbit_cleaner.concat_data(\n",
    "    orbit4_surgery_renamed, orbit5_surgery_renamed\n",
    ")\n",
    "orbit_foreign_object_surgery_combined = orbit_cleaner.concat_data(\n",
    "    orbit4_foreign_object_surgery_renamed, orbit5_foreign_object_surgery_renamed\n",
    ")"
   ]
  },
  {
   "cell_type": "markdown",
   "id": "725eb5db",
   "metadata": {},
   "source": [
    "## Clean Data"
   ]
  },
  {
   "cell_type": "code",
   "execution_count": null,
   "id": "171b78d8",
   "metadata": {},
   "outputs": [],
   "source": [
    "orbit_surgery_combined_cleaned = orbit_cleaner.clean_data(orbit_surgery_combined)\n",
    "orbit_foreign_object_surgery_combined_cleaned = orbit_cleaner.clean_data(\n",
    "    orbit_foreign_object_surgery_combined\n",
    ")"
   ]
  },
  {
   "cell_type": "markdown",
   "id": "8ab87d8f",
   "metadata": {},
   "source": [
    "## Map Data to Episodes"
   ]
  },
  {
   "cell_type": "code",
   "execution_count": null,
   "id": "f42611aa",
   "metadata": {},
   "outputs": [],
   "source": [
    "reference_data = pd.read_parquet(paths.REFERENCE_DATA_PATH)\n",
    "\n",
    "\n",
    "DAYS_BEFORE_BASELINE= pd.Timedelta(180, unit=\"days\")\n",
    "DAYS_AFTER_BASELINE= -pd.Timedelta(1, unit=\"days\")\n",
    "\n",
    "orbit_surgery_mapped = orbit_cleaner.map_data_to_interval(\n",
    "    reference_df=reference_data[\n",
    "        [\"episode_id\", \"patient_id\", \"sample_date\"]\n",
    "    ].drop_duplicates(),\n",
    "    df=orbit_surgery_combined_cleaned,\n",
    "    patient_id_col_name=\"patient_id\",\n",
    "    date_col_name=\"surgery_date\",\n",
    "    baseline_col_name=\"sample_date\",\n",
    "    time_before_baseline=DAYS_BEFORE_BASELINE,\n",
    "    time_after_baseline=DAYS_AFTER_BASELINE,\n",
    ")\n",
    "\n",
    "\n",
    "\n",
    "DAYS_BEFORE_BASELINE= pd.Timedelta(99999, unit=\"days\")\n",
    "DAYS_AFTER_BASELINE= -pd.Timedelta(1, unit=\"days\")\n",
    "\n",
    "orbit_foreign_object_surgery_mapped = orbit_cleaner.map_data_to_interval(\n",
    "    reference_df=reference_data[\n",
    "        [\"episode_id\", \"patient_id\", \"sample_date\"]\n",
    "    ].drop_duplicates(),\n",
    "    df=orbit_foreign_object_surgery_combined_cleaned,\n",
    "    patient_id_col_name=\"patient_id\",\n",
    "    date_col_name=\"surgery_date\",\n",
    "    baseline_col_name=\"sample_date\",\n",
    "    time_before_baseline=DAYS_BEFORE_BASELINE,\n",
    "    time_after_baseline=DAYS_AFTER_BASELINE,\n",
    ")"
   ]
  },
  {
   "cell_type": "markdown",
   "id": "dccf44e2",
   "metadata": {},
   "source": [
    "## Create Summary"
   ]
  },
  {
   "cell_type": "code",
   "execution_count": null,
   "id": "f7ed2cb4",
   "metadata": {},
   "outputs": [],
   "source": [
    "orbit_surgery_mapped[\"surgery\"] = orbit_cleaner.get_prefix_match_mask(\n",
    "    df=orbit_surgery_mapped, target_cols=[\"surgery_code\"], prefixes=[\"\"]\n",
    ")\n",
    "\n",
    "orbit_foreign_object_surgery_mapped[\"surgery\"] = (\n",
    "    orbit_cleaner.get_prefix_match_mask(\n",
    "        df=orbit_foreign_object_surgery_mapped,\n",
    "        target_cols=[\"surgery_code\"],\n",
    "        prefixes=[\"\"],\n",
    "    )\n",
    ")"
   ]
  },
  {
   "cell_type": "code",
   "execution_count": null,
   "id": "b85bae17",
   "metadata": {},
   "outputs": [],
   "source": [
    "def summary_surgery(df):\n",
    "    episode_id = df[\"episode_id\"].iloc[0]\n",
    "\n",
    "    had_surgery = df[\"surgery\"].max()\n",
    "    if had_surgery:\n",
    "        surgery_codes = list(set(df['surgery_code'].dropna().tolist()))\n",
    "        surgery_codes = ' | '.join(surgery_codes)\n",
    "    else:\n",
    "        surgery_codes = None\n",
    "\n",
    "    return {\n",
    "        \"episode_id\": episode_id,\n",
    "        \"surgery\": had_surgery,\n",
    "        \"surgery_code\": surgery_codes\n",
    "    }\n",
    "\n",
    "\n",
    "orbit_surgery_summary = orbit_cleaner.summarize_data_by_episode(\n",
    "    df=orbit_surgery_mapped,\n",
    "    episode_id_col=\"episode_id\",\n",
    "    summary_function=summary_surgery,\n",
    ")\n",
    "orbit_foreign_object_summary = orbit_cleaner.summarize_data_by_episode(\n",
    "    df=orbit_foreign_object_surgery_mapped,\n",
    "    episode_id_col=\"episode_id\",\n",
    "    summary_function=summary_surgery,\n",
    ")"
   ]
  },
  {
   "cell_type": "code",
   "execution_count": null,
   "id": "26f87ed7",
   "metadata": {},
   "outputs": [],
   "source": [
    "orbit_surgery_combined = orbit_surgery_summary.merge(\n",
    "    orbit_foreign_object_summary,\n",
    "    on=[\"episode_id\"],\n",
    "    suffixes=(\"_180_days_prior\", \"_with_foreign_object_prior\"),\n",
    ")"
   ]
  },
  {
   "cell_type": "markdown",
   "id": "0c01a768",
   "metadata": {},
   "source": [
    "## Save Data"
   ]
  },
  {
   "cell_type": "code",
   "execution_count": null,
   "id": "8862d200",
   "metadata": {},
   "outputs": [],
   "source": [
    "if not os.path.exists(paths.STORE_ORBIT_DATA_PATH):\n",
    "    os.makedirs(paths.STORE_ORBIT_DATA_PATH)\n",
    "\n",
    "#orbit_surgery_summary.to_parquet(f\"{paths.STORE_ORBIT_DATA_PATH}/orbit_surgery_summary.parquet\")\n",
    "#orbit_foreign_object_summary.to_parquet(f\"{paths.STORE_ORBIT_DATA_PATH}/orbit_foreign_object_summary.parquet\")\n",
    "orbit_surgery_combined.to_parquet(f\"{paths.STORE_ORBIT_DATA_PATH}/orbit_surgery_combined.parquet\")"
   ]
  }
 ],
 "metadata": {
  "kernelspec": {
   "display_name": "bsi",
   "language": "python",
   "name": "python3"
  },
  "language_info": {
   "codemirror_mode": {
    "name": "ipython",
    "version": 3
   },
   "file_extension": ".py",
   "mimetype": "text/x-python",
   "name": "python",
   "nbconvert_exporter": "python",
   "pygments_lexer": "ipython3",
   "version": "3.12.2"
  }
 },
 "nbformat": 4,
 "nbformat_minor": 5
}
